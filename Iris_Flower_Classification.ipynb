{
 "cells": [
  {
   "cell_type": "markdown",
   "metadata": {},
   "source": [
    "# **Project Name**    - Iris Flower Classification"
   ]
  },
  {
   "cell_type": "code",
   "execution_count": 141,
   "metadata": {},
   "outputs": [],
   "source": [
    "import pandas as pd\n",
    "import numpy as np\n",
    "import matplotlib.pyplot as plt\n",
    "import seaborn as sns\n",
    "from sklearn.metrics import confusion_matrix , accuracy_score , precision_score , recall_score, f1_score,classification_report\n",
    "from sklearn.preprocessing import LabelEncoder\n",
    "from sklearn.model_selection import train_test_split , GridSearchCV , RandomizedSearchCV, RepeatedStratifiedKFold\n",
    "from sklearn.linear_model import LogisticRegression\n",
    "from sklearn.tree import DecisionTreeClassifier\n",
    "from sklearn.ensemble import RandomForestClassifier\n",
    "from sklearn.svm import SVC\n",
    "from sklearn.neural_network import MLPClassifier\n",
    "from sklearn.naive_bayes import GaussianNB\n",
    "import xgboost as xgb\n",
    "\n",
    "import warnings\n",
    "warnings.filterwarnings(\"ignore\")\n",
    "%matplotlib inline"
   ]
  },
  {
   "cell_type": "markdown",
   "metadata": {},
   "source": [
    "### Read Dataset"
   ]
  },
  {
   "cell_type": "code",
   "execution_count": 142,
   "metadata": {},
   "outputs": [],
   "source": [
    "df = pd.read_csv(\"dataset.csv\")"
   ]
  },
  {
   "cell_type": "code",
   "execution_count": null,
   "metadata": {},
   "outputs": [
    {
     "data": {
      "text/html": [
       "<div>\n",
       "<style scoped>\n",
       "    .dataframe tbody tr th:only-of-type {\n",
       "        vertical-align: middle;\n",
       "    }\n",
       "\n",
       "    .dataframe tbody tr th {\n",
       "        vertical-align: top;\n",
       "    }\n",
       "\n",
       "    .dataframe thead th {\n",
       "        text-align: right;\n",
       "    }\n",
       "</style>\n",
       "<table border=\"1\" class=\"dataframe\">\n",
       "  <thead>\n",
       "    <tr style=\"text-align: right;\">\n",
       "      <th></th>\n",
       "      <th>Id</th>\n",
       "      <th>SepalLengthCm</th>\n",
       "      <th>SepalWidthCm</th>\n",
       "      <th>PetalLengthCm</th>\n",
       "      <th>PetalWidthCm</th>\n",
       "      <th>Species</th>\n",
       "    </tr>\n",
       "  </thead>\n",
       "  <tbody>\n",
       "    <tr>\n",
       "      <th>0</th>\n",
       "      <td>1</td>\n",
       "      <td>5.1</td>\n",
       "      <td>3.5</td>\n",
       "      <td>1.4</td>\n",
       "      <td>0.2</td>\n",
       "      <td>Iris-setosa</td>\n",
       "    </tr>\n",
       "    <tr>\n",
       "      <th>1</th>\n",
       "      <td>2</td>\n",
       "      <td>4.9</td>\n",
       "      <td>3.0</td>\n",
       "      <td>1.4</td>\n",
       "      <td>0.2</td>\n",
       "      <td>Iris-setosa</td>\n",
       "    </tr>\n",
       "    <tr>\n",
       "      <th>2</th>\n",
       "      <td>3</td>\n",
       "      <td>4.7</td>\n",
       "      <td>3.2</td>\n",
       "      <td>1.3</td>\n",
       "      <td>0.2</td>\n",
       "      <td>Iris-setosa</td>\n",
       "    </tr>\n",
       "    <tr>\n",
       "      <th>3</th>\n",
       "      <td>4</td>\n",
       "      <td>4.6</td>\n",
       "      <td>3.1</td>\n",
       "      <td>1.5</td>\n",
       "      <td>0.2</td>\n",
       "      <td>Iris-setosa</td>\n",
       "    </tr>\n",
       "    <tr>\n",
       "      <th>4</th>\n",
       "      <td>5</td>\n",
       "      <td>5.0</td>\n",
       "      <td>3.6</td>\n",
       "      <td>1.4</td>\n",
       "      <td>0.2</td>\n",
       "      <td>Iris-setosa</td>\n",
       "    </tr>\n",
       "  </tbody>\n",
       "</table>\n",
       "</div>"
      ],
      "text/plain": [
       "   Id  SepalLengthCm  SepalWidthCm  PetalLengthCm  PetalWidthCm      Species\n",
       "0   1            5.1           3.5            1.4           0.2  Iris-setosa\n",
       "1   2            4.9           3.0            1.4           0.2  Iris-setosa\n",
       "2   3            4.7           3.2            1.3           0.2  Iris-setosa\n",
       "3   4            4.6           3.1            1.5           0.2  Iris-setosa\n",
       "4   5            5.0           3.6            1.4           0.2  Iris-setosa"
      ]
     },
     "execution_count": 143,
     "metadata": {},
     "output_type": "execute_result"
    }
   ],
   "source": [
    "df.head()   # show sample from data"
   ]
  },
  {
   "cell_type": "code",
   "execution_count": 144,
   "metadata": {},
   "outputs": [
    {
     "data": {
      "text/plain": [
       "(150, 6)"
      ]
     },
     "execution_count": 144,
     "metadata": {},
     "output_type": "execute_result"
    }
   ],
   "source": [
    "df.shape"
   ]
  },
  {
   "cell_type": "code",
   "execution_count": 145,
   "metadata": {},
   "outputs": [
    {
     "name": "stdout",
     "output_type": "stream",
     "text": [
      "<class 'pandas.core.frame.DataFrame'>\n",
      "RangeIndex: 150 entries, 0 to 149\n",
      "Data columns (total 6 columns):\n",
      " #   Column         Non-Null Count  Dtype  \n",
      "---  ------         --------------  -----  \n",
      " 0   Id             150 non-null    int64  \n",
      " 1   SepalLengthCm  150 non-null    float64\n",
      " 2   SepalWidthCm   150 non-null    float64\n",
      " 3   PetalLengthCm  150 non-null    float64\n",
      " 4   PetalWidthCm   150 non-null    float64\n",
      " 5   Species        150 non-null    object \n",
      "dtypes: float64(4), int64(1), object(1)\n",
      "memory usage: 7.2+ KB\n"
     ]
    }
   ],
   "source": [
    "df.info()"
   ]
  },
  {
   "cell_type": "code",
   "execution_count": 146,
   "metadata": {},
   "outputs": [
    {
     "name": "stdout",
     "output_type": "stream",
     "text": [
      "Number of duplicated rows : 0\n"
     ]
    }
   ],
   "source": [
    "dup = df.duplicated().sum()\n",
    "print(f\"Number of duplicated rows : {dup}\")"
   ]
  },
  {
   "cell_type": "code",
   "execution_count": 147,
   "metadata": {},
   "outputs": [
    {
     "data": {
      "text/plain": [
       "Id               0\n",
       "SepalLengthCm    0\n",
       "SepalWidthCm     0\n",
       "PetalLengthCm    0\n",
       "PetalWidthCm     0\n",
       "Species          0\n",
       "dtype: int64"
      ]
     },
     "execution_count": 147,
     "metadata": {},
     "output_type": "execute_result"
    }
   ],
   "source": [
    "df.isnull().sum()"
   ]
  },
  {
   "cell_type": "code",
   "execution_count": 148,
   "metadata": {},
   "outputs": [
    {
     "data": {
      "text/plain": [
       "Index(['Id', 'SepalLengthCm', 'SepalWidthCm', 'PetalLengthCm', 'PetalWidthCm',\n",
       "       'Species'],\n",
       "      dtype='object')"
      ]
     },
     "execution_count": 148,
     "metadata": {},
     "output_type": "execute_result"
    }
   ],
   "source": [
    "df.columns"
   ]
  },
  {
   "cell_type": "code",
   "execution_count": 149,
   "metadata": {},
   "outputs": [
    {
     "data": {
      "text/html": [
       "<div>\n",
       "<style scoped>\n",
       "    .dataframe tbody tr th:only-of-type {\n",
       "        vertical-align: middle;\n",
       "    }\n",
       "\n",
       "    .dataframe tbody tr th {\n",
       "        vertical-align: top;\n",
       "    }\n",
       "\n",
       "    .dataframe thead th {\n",
       "        text-align: right;\n",
       "    }\n",
       "</style>\n",
       "<table border=\"1\" class=\"dataframe\">\n",
       "  <thead>\n",
       "    <tr style=\"text-align: right;\">\n",
       "      <th></th>\n",
       "      <th>Id</th>\n",
       "      <th>SepalLengthCm</th>\n",
       "      <th>SepalWidthCm</th>\n",
       "      <th>PetalLengthCm</th>\n",
       "      <th>PetalWidthCm</th>\n",
       "    </tr>\n",
       "  </thead>\n",
       "  <tbody>\n",
       "    <tr>\n",
       "      <th>count</th>\n",
       "      <td>150.000000</td>\n",
       "      <td>150.000000</td>\n",
       "      <td>150.000000</td>\n",
       "      <td>150.000000</td>\n",
       "      <td>150.000000</td>\n",
       "    </tr>\n",
       "    <tr>\n",
       "      <th>mean</th>\n",
       "      <td>75.500000</td>\n",
       "      <td>5.843333</td>\n",
       "      <td>3.054000</td>\n",
       "      <td>3.758667</td>\n",
       "      <td>1.198667</td>\n",
       "    </tr>\n",
       "    <tr>\n",
       "      <th>std</th>\n",
       "      <td>43.445368</td>\n",
       "      <td>0.828066</td>\n",
       "      <td>0.433594</td>\n",
       "      <td>1.764420</td>\n",
       "      <td>0.763161</td>\n",
       "    </tr>\n",
       "    <tr>\n",
       "      <th>min</th>\n",
       "      <td>1.000000</td>\n",
       "      <td>4.300000</td>\n",
       "      <td>2.000000</td>\n",
       "      <td>1.000000</td>\n",
       "      <td>0.100000</td>\n",
       "    </tr>\n",
       "    <tr>\n",
       "      <th>25%</th>\n",
       "      <td>38.250000</td>\n",
       "      <td>5.100000</td>\n",
       "      <td>2.800000</td>\n",
       "      <td>1.600000</td>\n",
       "      <td>0.300000</td>\n",
       "    </tr>\n",
       "    <tr>\n",
       "      <th>50%</th>\n",
       "      <td>75.500000</td>\n",
       "      <td>5.800000</td>\n",
       "      <td>3.000000</td>\n",
       "      <td>4.350000</td>\n",
       "      <td>1.300000</td>\n",
       "    </tr>\n",
       "    <tr>\n",
       "      <th>75%</th>\n",
       "      <td>112.750000</td>\n",
       "      <td>6.400000</td>\n",
       "      <td>3.300000</td>\n",
       "      <td>5.100000</td>\n",
       "      <td>1.800000</td>\n",
       "    </tr>\n",
       "    <tr>\n",
       "      <th>max</th>\n",
       "      <td>150.000000</td>\n",
       "      <td>7.900000</td>\n",
       "      <td>4.400000</td>\n",
       "      <td>6.900000</td>\n",
       "      <td>2.500000</td>\n",
       "    </tr>\n",
       "  </tbody>\n",
       "</table>\n",
       "</div>"
      ],
      "text/plain": [
       "               Id  SepalLengthCm  SepalWidthCm  PetalLengthCm  PetalWidthCm\n",
       "count  150.000000     150.000000    150.000000     150.000000    150.000000\n",
       "mean    75.500000       5.843333      3.054000       3.758667      1.198667\n",
       "std     43.445368       0.828066      0.433594       1.764420      0.763161\n",
       "min      1.000000       4.300000      2.000000       1.000000      0.100000\n",
       "25%     38.250000       5.100000      2.800000       1.600000      0.300000\n",
       "50%     75.500000       5.800000      3.000000       4.350000      1.300000\n",
       "75%    112.750000       6.400000      3.300000       5.100000      1.800000\n",
       "max    150.000000       7.900000      4.400000       6.900000      2.500000"
      ]
     },
     "execution_count": 149,
     "metadata": {},
     "output_type": "execute_result"
    }
   ],
   "source": [
    "df.describe()"
   ]
  },
  {
   "cell_type": "code",
   "execution_count": 59,
   "metadata": {},
   "outputs": [
    {
     "name": "stdout",
     "output_type": "stream",
     "text": [
      "Number of unique values in Id is 150\n",
      "Number of unique values in SepalLengthCm is 35\n",
      "Number of unique values in SepalWidthCm is 23\n",
      "Number of unique values in PetalLengthCm is 43\n",
      "Number of unique values in PetalWidthCm is 22\n",
      "Number of unique values in Species is 3\n"
     ]
    }
   ],
   "source": [
    "for i in df.columns.tolist():\n",
    "    print(f\"Number of unique values in {i} is {df[i].nunique()}\")"
   ]
  },
  {
   "cell_type": "code",
   "execution_count": 60,
   "metadata": {},
   "outputs": [],
   "source": [
    "## drop 1st column\n",
    "data = df.iloc[:,1:]"
   ]
  },
  {
   "cell_type": "code",
   "execution_count": 61,
   "metadata": {},
   "outputs": [
    {
     "data": {
      "text/html": [
       "<div>\n",
       "<style scoped>\n",
       "    .dataframe tbody tr th:only-of-type {\n",
       "        vertical-align: middle;\n",
       "    }\n",
       "\n",
       "    .dataframe tbody tr th {\n",
       "        vertical-align: top;\n",
       "    }\n",
       "\n",
       "    .dataframe thead th {\n",
       "        text-align: right;\n",
       "    }\n",
       "</style>\n",
       "<table border=\"1\" class=\"dataframe\">\n",
       "  <thead>\n",
       "    <tr style=\"text-align: right;\">\n",
       "      <th></th>\n",
       "      <th>SepalLengthCm</th>\n",
       "      <th>SepalWidthCm</th>\n",
       "      <th>PetalLengthCm</th>\n",
       "      <th>PetalWidthCm</th>\n",
       "      <th>Species</th>\n",
       "    </tr>\n",
       "  </thead>\n",
       "  <tbody>\n",
       "    <tr>\n",
       "      <th>0</th>\n",
       "      <td>5.1</td>\n",
       "      <td>3.5</td>\n",
       "      <td>1.4</td>\n",
       "      <td>0.2</td>\n",
       "      <td>Iris-setosa</td>\n",
       "    </tr>\n",
       "    <tr>\n",
       "      <th>1</th>\n",
       "      <td>4.9</td>\n",
       "      <td>3.0</td>\n",
       "      <td>1.4</td>\n",
       "      <td>0.2</td>\n",
       "      <td>Iris-setosa</td>\n",
       "    </tr>\n",
       "    <tr>\n",
       "      <th>2</th>\n",
       "      <td>4.7</td>\n",
       "      <td>3.2</td>\n",
       "      <td>1.3</td>\n",
       "      <td>0.2</td>\n",
       "      <td>Iris-setosa</td>\n",
       "    </tr>\n",
       "    <tr>\n",
       "      <th>3</th>\n",
       "      <td>4.6</td>\n",
       "      <td>3.1</td>\n",
       "      <td>1.5</td>\n",
       "      <td>0.2</td>\n",
       "      <td>Iris-setosa</td>\n",
       "    </tr>\n",
       "    <tr>\n",
       "      <th>4</th>\n",
       "      <td>5.0</td>\n",
       "      <td>3.6</td>\n",
       "      <td>1.4</td>\n",
       "      <td>0.2</td>\n",
       "      <td>Iris-setosa</td>\n",
       "    </tr>\n",
       "  </tbody>\n",
       "</table>\n",
       "</div>"
      ],
      "text/plain": [
       "   SepalLengthCm  SepalWidthCm  PetalLengthCm  PetalWidthCm      Species\n",
       "0            5.1           3.5            1.4           0.2  Iris-setosa\n",
       "1            4.9           3.0            1.4           0.2  Iris-setosa\n",
       "2            4.7           3.2            1.3           0.2  Iris-setosa\n",
       "3            4.6           3.1            1.5           0.2  Iris-setosa\n",
       "4            5.0           3.6            1.4           0.2  Iris-setosa"
      ]
     },
     "execution_count": 61,
     "metadata": {},
     "output_type": "execute_result"
    }
   ],
   "source": [
    "data.head()"
   ]
  },
  {
   "cell_type": "markdown",
   "metadata": {},
   "source": [
    "## 4. Data Vizualization: Understand the relationships between variables"
   ]
  },
  {
   "cell_type": "markdown",
   "metadata": {},
   "source": [
    "#### chart 1 : Distribution of numberical variables"
   ]
  },
  {
   "cell_type": "code",
   "execution_count": 62,
   "metadata": {},
   "outputs": [
    {
     "data": {
      "image/png": "[encoded data removed]",
      "text/plain": [
       "<Figure size 800x600 with 4 Axes>"
      ]
     },
     "metadata": {},
     "output_type": "display_data"
    }
   ],
   "source": [
    "plt.figure(figsize=(8,6))\n",
    "plt.suptitle(\"Distribution of Iris Flower Measurements\" , fontsize = 14)\n",
    "\n",
    "# subplot-1\n",
    "plt.subplot(2,2,1) # Top-left\n",
    "plt.hist(data['PetalLengthCm'])\n",
    "plt.title('Sepal Length Distribution')\n",
    "\n",
    "# subplot-2\n",
    "plt.subplot(2,2,2)  # Top-right\n",
    "plt.hist(data['SepalWidthCm'])\n",
    "plt.title('Sepal Width Distribution')\n",
    "\n",
    "# subplot-3\n",
    "plt.subplot(2,2,3)   # Bottom-left\n",
    "plt.hist(data['PetalLengthCm'])\n",
    "plt.title('Petal Length Distribution')\n",
    "\n",
    "# subplot-4\n",
    "plt.subplot(2,2,4)  # Bottom right\n",
    "plt.hist(data['PetalWidthCm'])\n",
    "plt.title('Petal Width Distribution')\n",
    "\n",
    "plt.tight_layout()\n",
    "plt.show()"
   ]
  },
  {
   "cell_type": "markdown",
   "metadata": {},
   "source": [
    "#### Chart - 2 : Sepal Length vs Sepal Width\n"
   ]
  },
  {
   "cell_type": "code",
   "execution_count": 63,
   "metadata": {},
   "outputs": [],
   "source": [
    "colors = ['red','yellow','green']\n",
    "species = ['Iris-setosa', 'Iris-versicolor', 'Iris-virginica']"
   ]
  },
  {
   "cell_type": "code",
   "execution_count": 64,
   "metadata": {},
   "outputs": [
    {
     "data": {
      "image/png": "[encoded data removed]",
      "text/plain": [
       "<Figure size 640x480 with 1 Axes>"
      ]
     },
     "metadata": {},
     "output_type": "display_data"
    }
   ],
   "source": [
    "# Chart - 2 Scatter plot visualization code for Sepal Length vs Sepal Width.\n",
    "# Create a scatter plot for Sepal Length vs Sepal Width for each species.\n",
    "for i in range(3):\n",
    "    x = data[data['Species'] == species[i]]   # x contain only rows for the current species\n",
    "    # Create a scatter plot with the specified color and label for the current species.\n",
    "    plt.scatter(x['SepalLengthCm'],x['SepalWidthCm'],c=colors[i],label=species[i])\n",
    "    \n",
    "plt.xlabel('Sepal Length')\n",
    "plt.ylabel('Sepal Width')\n",
    "plt.legend()\n",
    "plt.show()"
   ]
  },
  {
   "cell_type": "markdown",
   "metadata": {},
   "source": []
  },
  {
   "cell_type": "markdown",
   "metadata": {},
   "source": [
    "#### Chart - 3 : Petal Length vs Petal Width\n"
   ]
  },
  {
   "cell_type": "code",
   "execution_count": 65,
   "metadata": {},
   "outputs": [
    {
     "data": {
      "image/png": "[encoded data removed]",
      "text/plain": [
       "<Figure size 640x480 with 1 Axes>"
      ]
     },
     "metadata": {},
     "output_type": "display_data"
    }
   ],
   "source": [
    "for i in range(3):\n",
    "    x = data[data['Species'] == species[i]]\n",
    "    plt.scatter(x['PetalLengthCm'],x['PetalWidthCm'],c=colors[i],label=species[i])\n",
    "    \n",
    "plt.xlabel('Petal Length')\n",
    "plt.ylabel('Petal Width')\n",
    "plt.legend()\n",
    "plt.show()"
   ]
  },
  {
   "cell_type": "markdown",
   "metadata": {},
   "source": []
  },
  {
   "cell_type": "markdown",
   "metadata": {},
   "source": [
    "#### Chart - 4 : Sepal Length vs Petal Length\n"
   ]
  },
  {
   "cell_type": "code",
   "execution_count": 66,
   "metadata": {},
   "outputs": [
    {
     "data": {
      "image/png": "[encoded data removed]",
      "text/plain": [
       "<Figure size 640x480 with 1 Axes>"
      ]
     },
     "metadata": {},
     "output_type": "display_data"
    }
   ],
   "source": [
    "for i in range(3):\n",
    "    x = data[data['Species'] == species[i]]\n",
    "    plt.scatter(x['SepalLengthCm'],x['PetalLengthCm'],c=colors[i],label=species[i])\n",
    "    \n",
    "plt.xlabel('Sepal Length')\n",
    "plt.ylabel('Petal Length')\n",
    "plt.legend()\n",
    "plt.show()"
   ]
  },
  {
   "cell_type": "markdown",
   "metadata": {},
   "source": []
  },
  {
   "cell_type": "markdown",
   "metadata": {},
   "source": [
    "#### Chart - 5 : Sepal Width vs Petal Width\n"
   ]
  },
  {
   "cell_type": "code",
   "execution_count": 67,
   "metadata": {},
   "outputs": [
    {
     "data": {
      "image/png": "[encoded data removed]",
      "text/plain": [
       "<Figure size 640x480 with 1 Axes>"
      ]
     },
     "metadata": {},
     "output_type": "display_data"
    }
   ],
   "source": [
    "for i in range(3):\n",
    "    x = data[data['Species'] == species[i]]\n",
    "    plt.scatter(x['SepalWidthCm'],x['PetalWidthCm'],c=colors[i],label=species[i])\n",
    "    \n",
    "plt.xlabel('Sepal Width')\n",
    "plt.ylabel('Petal Width')\n",
    "plt.legend()\n",
    "plt.show()"
   ]
  },
  {
   "cell_type": "markdown",
   "metadata": {},
   "source": []
  },
  {
   "cell_type": "markdown",
   "metadata": {},
   "source": [
    "#### Chart - 6 : Correlation Heatmap\n"
   ]
  },
  {
   "cell_type": "code",
   "execution_count": 68,
   "metadata": {},
   "outputs": [
    {
     "data": {
      "image/png": "[encoded data removed]",
      "text/plain": [
       "<Figure size 800x400 with 2 Axes>"
      ]
     },
     "metadata": {},
     "output_type": "display_data"
    }
   ],
   "source": [
    "corr_matrix = data.corr(numeric_only=True)\n",
    "plt.figure(figsize=(8,4))\n",
    "sns.heatmap(corr_matrix,annot=True,cmap='Reds_r')\n",
    "\n",
    "plt.title(\"Correlation Matrix heatmap\")\n",
    "plt.show()"
   ]
  },
  {
   "cell_type": "markdown",
   "metadata": {},
   "source": []
  },
  {
   "cell_type": "markdown",
   "metadata": {},
   "source": [
    "#### 5. Feature Engineering & Data Pre-processing"
   ]
  },
  {
   "cell_type": "code",
   "execution_count": 69,
   "metadata": {},
   "outputs": [
    {
     "name": "stdout",
     "output_type": "stream",
     "text": [
      "Encoded species values is [0 1 2]\n"
     ]
    }
   ],
   "source": [
    "le = LabelEncoder()\n",
    "data['Species'] = le.fit_transform(data['Species'])\n",
    "\n",
    "unique_species = data['Species'].unique()\n",
    "\n",
    "print(f\"Encoded species values is {unique_species}\" )"
   ]
  },
  {
   "cell_type": "code",
   "execution_count": 70,
   "metadata": {},
   "outputs": [],
   "source": [
    "## Data Scaling \n",
    "x = data.drop(columns=['Species'],axis=1)\n",
    "y = data['Species']"
   ]
  },
  {
   "cell_type": "code",
   "execution_count": 71,
   "metadata": {},
   "outputs": [],
   "source": [
    "## Data spliting\n",
    "x_train, x_test , y_train, y_test = train_test_split(x,y,test_size=0.3)"
   ]
  },
  {
   "cell_type": "code",
   "execution_count": 72,
   "metadata": {},
   "outputs": [
    {
     "data": {
      "text/plain": [
       "Species\n",
       "0    36\n",
       "2    36\n",
       "1    33\n",
       "Name: count, dtype: int64"
      ]
     },
     "execution_count": 72,
     "metadata": {},
     "output_type": "execute_result"
    }
   ],
   "source": [
    "y_train.value_counts()"
   ]
  },
  {
   "cell_type": "markdown",
   "metadata": {},
   "source": []
  },
  {
   "cell_type": "markdown",
   "metadata": {},
   "source": [
    "### ML Model Implementation"
   ]
  },
  {
   "cell_type": "code",
   "execution_count": 73,
   "metadata": {},
   "outputs": [],
   "source": [
    "def evaluate_model(model,x_train,x_test,y_train,y_test):\n",
    "    # Fit the model to the training data\n",
    "    model.fit(x_train,y_train)\n",
    "    # make predictions on tne test data\n",
    "    y_pred_train = model.predict(x_train)\n",
    "    y_pred_test = model.predict(x_test)\n",
    "    \n",
    "    # calculate confusion matrix\n",
    "    cm_train = confusion_matrix(y_train,y_pred_train)\n",
    "    cm_test = confusion_matrix(y_test,y_pred_test)\n",
    "    \n",
    "    fig ,ax = plt.subplots(1,2,figsize=(11,4))\n",
    "    print(\"\\nConfusion Matrix:\")\n",
    "    sns.heatmap(cm_train, annot=True, xticklabels=['Negative', 'Positive'], yticklabels=['Negative', 'Positive'], cmap=\"Oranges\", fmt='.4g', ax=ax[0])\n",
    "    ax[0].set_xlabel(\"Predicted Label\")\n",
    "    ax[0].set_ylabel(\"True Label\")\n",
    "    ax[0].set_title(\"Train Confusion Matrix\")\n",
    "    \n",
    "    sns.heatmap(cm_test, annot=True, xticklabels=['Negative', 'Positive'], yticklabels=['Negative', 'Positive'], cmap=\"Oranges\", fmt='.4g', ax=ax[1])\n",
    "    ax[1].set_xlabel(\"Predicted Label\")\n",
    "    ax[1].set_ylabel(\"True Label\")\n",
    "    ax[1].set_title(\"Test Confusion Matrix\")\n",
    "    \n",
    "    plt.tight_layout()\n",
    "    plt.show()\n",
    "    \n",
    "    \n",
    "    cr_train = classification_report(y_train, y_pred_train, output_dict=True)\n",
    "    cr_test = classification_report(y_test, y_pred_test, output_dict=True)\n",
    "    print(\"\\nTrain Classification Report:\")\n",
    "    crt = pd.DataFrame(cr_train).T\n",
    "    print(crt.to_markdown())\n",
    "    # sns.heatmap(pd.DataFrame(cr_train).T.iloc[:, :-1], annot=True, cmap=\"Blues\")\n",
    "    print(\"\\nTest Classification Report:\")\n",
    "    crt2 = pd.DataFrame(cr_test).T\n",
    "    print(crt2.to_markdown())\n",
    "    # sns.heatmap(pd.DataFrame(cr_test).T.iloc[:, :-1], annot=True, cmap=\"Blues\")\n",
    "\n",
    "    precision_train = cr_train['weighted avg']['precision']\n",
    "    precision_test = cr_test['weighted avg']['precision']\n",
    "\n",
    "    recall_train = cr_train['weighted avg']['recall']\n",
    "    recall_test = cr_test['weighted avg']['recall']\n",
    "\n",
    "    acc_train = accuracy_score(y_true = y_train, y_pred = y_pred_train)\n",
    "    acc_test = accuracy_score(y_true = y_test, y_pred = y_pred_test)\n",
    "\n",
    "    F1_train = cr_train['weighted avg']['f1-score']\n",
    "    F1_test = cr_test['weighted avg']['f1-score']\n",
    "\n",
    "    model_score = [precision_train, precision_test, recall_train, recall_test, acc_train, acc_test, F1_train, F1_test ]\n",
    "    return model_score"
   ]
  },
  {
   "cell_type": "code",
   "execution_count": 74,
   "metadata": {},
   "outputs": [],
   "source": [
    "score = pd.DataFrame(index = ['Precision Train', 'Precision Test','Recall Train','Recall Test','Accuracy Train', 'Accuracy Test', 'F1 macro Train', 'F1 macro Test'])\n"
   ]
  },
  {
   "cell_type": "markdown",
   "metadata": {},
   "source": []
  },
  {
   "cell_type": "markdown",
   "metadata": {},
   "source": [
    "### Model 1 : Logistic Regression"
   ]
  },
  {
   "cell_type": "code",
   "execution_count": 75,
   "metadata": {},
   "outputs": [],
   "source": [
    "lr_model = LogisticRegression(fit_intercept=True,max_iter=10000)"
   ]
  },
  {
   "cell_type": "code",
   "execution_count": 76,
   "metadata": {},
   "outputs": [
    {
     "name": "stdout",
     "output_type": "stream",
     "text": [
      "\n",
      "Confusion Matrix:\n"
     ]
    },
    {
     "data": {
      "image/png": "[encoded data removed]",
      "text/plain": [
       "<Figure size 1100x400 with 4 Axes>"
      ]
     },
     "metadata": {},
     "output_type": "display_data"
    },
    {
     "name": "stdout",
     "output_type": "stream",
     "text": [
      "\n",
      "Train Classification Report:\n",
      "|              |   precision |   recall |   f1-score |    support |\n",
      "|:-------------|------------:|---------:|-----------:|-----------:|\n",
      "| 0            |    1        | 1        |   1        |  36        |\n",
      "| 1            |    1        | 0.939394 |   0.96875  |  33        |\n",
      "| 2            |    0.947368 | 1        |   0.972973 |  36        |\n",
      "| accuracy     |    0.980952 | 0.980952 |   0.980952 |   0.980952 |\n",
      "| macro avg    |    0.982456 | 0.979798 |   0.980574 | 105        |\n",
      "| weighted avg |    0.981955 | 0.980952 |   0.980912 | 105        |\n",
      "\n",
      "Test Classification Report:\n",
      "|              |   precision |   recall |   f1-score |   support |\n",
      "|:-------------|------------:|---------:|-----------:|----------:|\n",
      "| 0            |    1        | 1        |   1        | 14        |\n",
      "| 1            |    0.888889 | 0.941176 |   0.914286 | 17        |\n",
      "| 2            |    0.923077 | 0.857143 |   0.888889 | 14        |\n",
      "| accuracy     |    0.933333 | 0.933333 |   0.933333 |  0.933333 |\n",
      "| macro avg    |    0.937322 | 0.932773 |   0.934392 | 45        |\n",
      "| weighted avg |    0.934093 | 0.933333 |   0.933051 | 45        |\n"
     ]
    }
   ],
   "source": [
    "lr_score = evaluate_model(lr_model, x_train, x_test, y_train, y_test)\n"
   ]
  },
  {
   "cell_type": "code",
   "execution_count": 77,
   "metadata": {},
   "outputs": [
    {
     "data": {
      "text/html": [
       "<div>\n",
       "<style scoped>\n",
       "    .dataframe tbody tr th:only-of-type {\n",
       "        vertical-align: middle;\n",
       "    }\n",
       "\n",
       "    .dataframe tbody tr th {\n",
       "        vertical-align: top;\n",
       "    }\n",
       "\n",
       "    .dataframe thead th {\n",
       "        text-align: right;\n",
       "    }\n",
       "</style>\n",
       "<table border=\"1\" class=\"dataframe\">\n",
       "  <thead>\n",
       "    <tr style=\"text-align: right;\">\n",
       "      <th></th>\n",
       "      <th>Logistic regression</th>\n",
       "    </tr>\n",
       "  </thead>\n",
       "  <tbody>\n",
       "    <tr>\n",
       "      <th>Precision Train</th>\n",
       "      <td>0.981955</td>\n",
       "    </tr>\n",
       "    <tr>\n",
       "      <th>Precision Test</th>\n",
       "      <td>0.934093</td>\n",
       "    </tr>\n",
       "    <tr>\n",
       "      <th>Recall Train</th>\n",
       "      <td>0.980952</td>\n",
       "    </tr>\n",
       "    <tr>\n",
       "      <th>Recall Test</th>\n",
       "      <td>0.933333</td>\n",
       "    </tr>\n",
       "    <tr>\n",
       "      <th>Accuracy Train</th>\n",
       "      <td>0.980952</td>\n",
       "    </tr>\n",
       "    <tr>\n",
       "      <th>Accuracy Test</th>\n",
       "      <td>0.933333</td>\n",
       "    </tr>\n",
       "    <tr>\n",
       "      <th>F1 macro Train</th>\n",
       "      <td>0.980912</td>\n",
       "    </tr>\n",
       "    <tr>\n",
       "      <th>F1 macro Test</th>\n",
       "      <td>0.933051</td>\n",
       "    </tr>\n",
       "  </tbody>\n",
       "</table>\n",
       "</div>"
      ],
      "text/plain": [
       "                 Logistic regression\n",
       "Precision Train             0.981955\n",
       "Precision Test              0.934093\n",
       "Recall Train                0.980952\n",
       "Recall Test                 0.933333\n",
       "Accuracy Train              0.980952\n",
       "Accuracy Test               0.933333\n",
       "F1 macro Train              0.980912\n",
       "F1 macro Test               0.933051"
      ]
     },
     "execution_count": 77,
     "metadata": {},
     "output_type": "execute_result"
    }
   ],
   "source": [
    "\n",
    "# Updated Evaluation metric Score Chart\n",
    "score['Logistic regression'] = lr_score\n",
    "score"
   ]
  },
  {
   "cell_type": "markdown",
   "metadata": {},
   "source": []
  },
  {
   "cell_type": "markdown",
   "metadata": {},
   "source": [
    "### 2. Cross- Validation & Hyperparameter Tuning"
   ]
  },
  {
   "cell_type": "code",
   "execution_count": 79,
   "metadata": {},
   "outputs": [
    {
     "name": "stdout",
     "output_type": "stream",
     "text": [
      "Best hyperparameters:  {'C': 1, 'penalty': 'l2', 'solver': 'saga'}\n"
     ]
    }
   ],
   "source": [
    "# ML Model - 1 Implementation with hyperparameter optimization techniques (i.e., GridSearch CV, RandomSearch CV, Bayesian Optimization etc.)\n",
    "# Define the hyperparameter grid\n",
    "param_grid = {'C': [100,10,1,0.1,0.01,0.001,0.0001],\n",
    "              'penalty': ['l1', 'l2'],\n",
    "              'solver':['newton-cg', 'lbfgs', 'liblinear', 'sag', 'saga']}\n",
    "\n",
    "# Initializing the logistic regression model\n",
    "logreg = LogisticRegression(fit_intercept=True, max_iter=10000, random_state=0)\n",
    "\n",
    "# Repeated stratified kfold\n",
    "rskf = RepeatedStratifiedKFold(n_splits=3, n_repeats=4, random_state=0)\n",
    "\n",
    "# Using GridSearchCV to tune the hyperparameters using cross-validation\n",
    "grid = GridSearchCV(logreg, param_grid, cv=rskf)\n",
    "grid.fit(x_train, y_train)\n",
    "\n",
    "# Select the best hyperparameters found by GridSearchCV\n",
    "best_params = grid.best_params_\n",
    "print(\"Best hyperparameters: \", best_params)"
   ]
  },
  {
   "cell_type": "code",
   "execution_count": 80,
   "metadata": {},
   "outputs": [],
   "source": [
    "lr_model2 = LogisticRegression(C=best_params['C'],\n",
    "                               penalty=best_params['penalty'],\n",
    "                               solver=best_params['solver'],\n",
    "                               max_iter=10000,\n",
    "                               random_state=0)"
   ]
  },
  {
   "cell_type": "code",
   "execution_count": 81,
   "metadata": {},
   "outputs": [
    {
     "name": "stdout",
     "output_type": "stream",
     "text": [
      "\n",
      "Confusion Matrix:\n"
     ]
    },
    {
     "data": {
      "image/png": "[encoded data removed]",
      "text/plain": [
       "<Figure size 1100x400 with 4 Axes>"
      ]
     },
     "metadata": {},
     "output_type": "display_data"
    },
    {
     "name": "stdout",
     "output_type": "stream",
     "text": [
      "\n",
      "Train Classification Report:\n",
      "|              |   precision |   recall |   f1-score |    support |\n",
      "|:-------------|------------:|---------:|-----------:|-----------:|\n",
      "| 0            |    1        | 1        |   1        |  36        |\n",
      "| 1            |    1        | 0.939394 |   0.96875  |  33        |\n",
      "| 2            |    0.947368 | 1        |   0.972973 |  36        |\n",
      "| accuracy     |    0.980952 | 0.980952 |   0.980952 |   0.980952 |\n",
      "| macro avg    |    0.982456 | 0.979798 |   0.980574 | 105        |\n",
      "| weighted avg |    0.981955 | 0.980952 |   0.980912 | 105        |\n",
      "\n",
      "Test Classification Report:\n",
      "|              |   precision |   recall |   f1-score |   support |\n",
      "|:-------------|------------:|---------:|-----------:|----------:|\n",
      "| 0            |    1        | 1        |   1        | 14        |\n",
      "| 1            |    0.941176 | 0.941176 |   0.941176 | 17        |\n",
      "| 2            |    0.928571 | 0.928571 |   0.928571 | 14        |\n",
      "| accuracy     |    0.955556 | 0.955556 |   0.955556 |  0.955556 |\n",
      "| macro avg    |    0.956583 | 0.956583 |   0.956583 | 45        |\n",
      "| weighted avg |    0.955556 | 0.955556 |   0.955556 | 45        |\n"
     ]
    }
   ],
   "source": [
    "lr_score2 = evaluate_model(lr_model2,x_train,x_test,y_train,y_test)"
   ]
  },
  {
   "cell_type": "code",
   "execution_count": 82,
   "metadata": {},
   "outputs": [],
   "source": [
    "score['Logistic regression tuned'] = lr_score2"
   ]
  },
  {
   "cell_type": "code",
   "execution_count": 83,
   "metadata": {},
   "outputs": [
    {
     "data": {
      "text/html": [
       "<div>\n",
       "<style scoped>\n",
       "    .dataframe tbody tr th:only-of-type {\n",
       "        vertical-align: middle;\n",
       "    }\n",
       "\n",
       "    .dataframe tbody tr th {\n",
       "        vertical-align: top;\n",
       "    }\n",
       "\n",
       "    .dataframe thead th {\n",
       "        text-align: right;\n",
       "    }\n",
       "</style>\n",
       "<table border=\"1\" class=\"dataframe\">\n",
       "  <thead>\n",
       "    <tr style=\"text-align: right;\">\n",
       "      <th></th>\n",
       "      <th>Logistic regression</th>\n",
       "      <th>Logistic regression tuned</th>\n",
       "    </tr>\n",
       "  </thead>\n",
       "  <tbody>\n",
       "    <tr>\n",
       "      <th>Precision Train</th>\n",
       "      <td>0.981955</td>\n",
       "      <td>0.981955</td>\n",
       "    </tr>\n",
       "    <tr>\n",
       "      <th>Precision Test</th>\n",
       "      <td>0.934093</td>\n",
       "      <td>0.955556</td>\n",
       "    </tr>\n",
       "    <tr>\n",
       "      <th>Recall Train</th>\n",
       "      <td>0.980952</td>\n",
       "      <td>0.980952</td>\n",
       "    </tr>\n",
       "    <tr>\n",
       "      <th>Recall Test</th>\n",
       "      <td>0.933333</td>\n",
       "      <td>0.955556</td>\n",
       "    </tr>\n",
       "    <tr>\n",
       "      <th>Accuracy Train</th>\n",
       "      <td>0.980952</td>\n",
       "      <td>0.980952</td>\n",
       "    </tr>\n",
       "    <tr>\n",
       "      <th>Accuracy Test</th>\n",
       "      <td>0.933333</td>\n",
       "      <td>0.955556</td>\n",
       "    </tr>\n",
       "    <tr>\n",
       "      <th>F1 macro Train</th>\n",
       "      <td>0.980912</td>\n",
       "      <td>0.980912</td>\n",
       "    </tr>\n",
       "    <tr>\n",
       "      <th>F1 macro Test</th>\n",
       "      <td>0.933051</td>\n",
       "      <td>0.955556</td>\n",
       "    </tr>\n",
       "  </tbody>\n",
       "</table>\n",
       "</div>"
      ],
      "text/plain": [
       "                 Logistic regression  Logistic regression tuned\n",
       "Precision Train             0.981955                   0.981955\n",
       "Precision Test              0.934093                   0.955556\n",
       "Recall Train                0.980952                   0.980952\n",
       "Recall Test                 0.933333                   0.955556\n",
       "Accuracy Train              0.980952                   0.980952\n",
       "Accuracy Test               0.933333                   0.955556\n",
       "F1 macro Train              0.980912                   0.980912\n",
       "F1 macro Test               0.933051                   0.955556"
      ]
     },
     "execution_count": 83,
     "metadata": {},
     "output_type": "execute_result"
    }
   ],
   "source": [
    "score"
   ]
  },
  {
   "cell_type": "markdown",
   "metadata": {},
   "source": []
  },
  {
   "cell_type": "markdown",
   "metadata": {},
   "source": [
    "### Model-2 : Decision Tree"
   ]
  },
  {
   "cell_type": "code",
   "execution_count": 84,
   "metadata": {},
   "outputs": [],
   "source": [
    "dt_model = DecisionTreeClassifier(random_state=20)"
   ]
  },
  {
   "cell_type": "code",
   "execution_count": 85,
   "metadata": {},
   "outputs": [
    {
     "name": "stdout",
     "output_type": "stream",
     "text": [
      "\n",
      "Confusion Matrix:\n"
     ]
    },
    {
     "data": {
      "image/png": "[encoded data removed]",
      "text/plain": [
       "<Figure size 1100x400 with 4 Axes>"
      ]
     },
     "metadata": {},
     "output_type": "display_data"
    },
    {
     "name": "stdout",
     "output_type": "stream",
     "text": [
      "\n",
      "Train Classification Report:\n",
      "|              |   precision |   recall |   f1-score |   support |\n",
      "|:-------------|------------:|---------:|-----------:|----------:|\n",
      "| 0            |           1 |        1 |          1 |        36 |\n",
      "| 1            |           1 |        1 |          1 |        33 |\n",
      "| 2            |           1 |        1 |          1 |        36 |\n",
      "| accuracy     |           1 |        1 |          1 |         1 |\n",
      "| macro avg    |           1 |        1 |          1 |       105 |\n",
      "| weighted avg |           1 |        1 |          1 |       105 |\n",
      "\n",
      "Test Classification Report:\n",
      "|              |   precision |   recall |   f1-score |   support |\n",
      "|:-------------|------------:|---------:|-----------:|----------:|\n",
      "| 0            |    1        | 1        |   1        | 14        |\n",
      "| 1            |    0.888889 | 0.941176 |   0.914286 | 17        |\n",
      "| 2            |    0.923077 | 0.857143 |   0.888889 | 14        |\n",
      "| accuracy     |    0.933333 | 0.933333 |   0.933333 |  0.933333 |\n",
      "| macro avg    |    0.937322 | 0.932773 |   0.934392 | 45        |\n",
      "| weighted avg |    0.934093 | 0.933333 |   0.933051 | 45        |\n"
     ]
    }
   ],
   "source": [
    "dt_score = evaluate_model(dt_model,x_train,x_test,y_train,y_test)"
   ]
  },
  {
   "cell_type": "code",
   "execution_count": 87,
   "metadata": {},
   "outputs": [
    {
     "data": {
      "text/html": [
       "<div>\n",
       "<style scoped>\n",
       "    .dataframe tbody tr th:only-of-type {\n",
       "        vertical-align: middle;\n",
       "    }\n",
       "\n",
       "    .dataframe tbody tr th {\n",
       "        vertical-align: top;\n",
       "    }\n",
       "\n",
       "    .dataframe thead th {\n",
       "        text-align: right;\n",
       "    }\n",
       "</style>\n",
       "<table border=\"1\" class=\"dataframe\">\n",
       "  <thead>\n",
       "    <tr style=\"text-align: right;\">\n",
       "      <th></th>\n",
       "      <th>Logistic regression</th>\n",
       "      <th>Logistic regression tuned</th>\n",
       "      <th>Decision Tree</th>\n",
       "    </tr>\n",
       "  </thead>\n",
       "  <tbody>\n",
       "    <tr>\n",
       "      <th>Precision Train</th>\n",
       "      <td>0.981955</td>\n",
       "      <td>0.981955</td>\n",
       "      <td>1.000000</td>\n",
       "    </tr>\n",
       "    <tr>\n",
       "      <th>Precision Test</th>\n",
       "      <td>0.934093</td>\n",
       "      <td>0.955556</td>\n",
       "      <td>0.934093</td>\n",
       "    </tr>\n",
       "    <tr>\n",
       "      <th>Recall Train</th>\n",
       "      <td>0.980952</td>\n",
       "      <td>0.980952</td>\n",
       "      <td>1.000000</td>\n",
       "    </tr>\n",
       "    <tr>\n",
       "      <th>Recall Test</th>\n",
       "      <td>0.933333</td>\n",
       "      <td>0.955556</td>\n",
       "      <td>0.933333</td>\n",
       "    </tr>\n",
       "    <tr>\n",
       "      <th>Accuracy Train</th>\n",
       "      <td>0.980952</td>\n",
       "      <td>0.980952</td>\n",
       "      <td>1.000000</td>\n",
       "    </tr>\n",
       "    <tr>\n",
       "      <th>Accuracy Test</th>\n",
       "      <td>0.933333</td>\n",
       "      <td>0.955556</td>\n",
       "      <td>0.933333</td>\n",
       "    </tr>\n",
       "    <tr>\n",
       "      <th>F1 macro Train</th>\n",
       "      <td>0.980912</td>\n",
       "      <td>0.980912</td>\n",
       "      <td>1.000000</td>\n",
       "    </tr>\n",
       "    <tr>\n",
       "      <th>F1 macro Test</th>\n",
       "      <td>0.933051</td>\n",
       "      <td>0.955556</td>\n",
       "      <td>0.933051</td>\n",
       "    </tr>\n",
       "  </tbody>\n",
       "</table>\n",
       "</div>"
      ],
      "text/plain": [
       "                 Logistic regression  Logistic regression tuned  Decision Tree\n",
       "Precision Train             0.981955                   0.981955       1.000000\n",
       "Precision Test              0.934093                   0.955556       0.934093\n",
       "Recall Train                0.980952                   0.980952       1.000000\n",
       "Recall Test                 0.933333                   0.955556       0.933333\n",
       "Accuracy Train              0.980952                   0.980952       1.000000\n",
       "Accuracy Test               0.933333                   0.955556       0.933333\n",
       "F1 macro Train              0.980912                   0.980912       1.000000\n",
       "F1 macro Test               0.933051                   0.955556       0.933051"
      ]
     },
     "execution_count": 87,
     "metadata": {},
     "output_type": "execute_result"
    }
   ],
   "source": [
    "score['Decision Tree'] = dt_score\n",
    "score"
   ]
  },
  {
   "cell_type": "markdown",
   "metadata": {},
   "source": []
  },
  {
   "cell_type": "markdown",
   "metadata": {},
   "source": [
    "### Cross-validation & HyperParameter tuning"
   ]
  },
  {
   "cell_type": "code",
   "execution_count": 88,
   "metadata": {},
   "outputs": [
    {
     "name": "stdout",
     "output_type": "stream",
     "text": [
      "Best hyperparameters:  {'max_depth': 3, 'min_samples_leaf': 10, 'min_samples_split': 2}\n"
     ]
    }
   ],
   "source": [
    "# ML Model - 2 Implementation with hyperparameter optimization techniques (i.e., GridSearch CV, RandomSearch CV, Bayesian Optimization etc.)\n",
    "# Define the hyperparameter grid\n",
    "grid = {'max_depth' : [3,4,5,6,7,8],\n",
    "        'min_samples_split' : np.arange(2,8),\n",
    "        'min_samples_leaf' : np.arange(10,20)}\n",
    "\n",
    "# Initialize the model\n",
    "model = DecisionTreeClassifier()\n",
    "\n",
    "# repeated stratified kfold\n",
    "rskf = RepeatedStratifiedKFold(n_splits=3, n_repeats=3, random_state=0)\n",
    "\n",
    "# Initialize GridSearchCV\n",
    "grid_search = GridSearchCV(model, grid, cv=rskf)\n",
    "\n",
    "# Fit the GridSearchCV to the training data\n",
    "grid_search.fit(x_train, y_train)\n",
    "\n",
    "# Select the best hyperparameters\n",
    "best_params = grid_search.best_params_\n",
    "print(\"Best hyperparameters: \", best_params)"
   ]
  },
  {
   "cell_type": "code",
   "execution_count": 89,
   "metadata": {},
   "outputs": [],
   "source": [
    "# Train a new model with the best hyperparameters\n",
    "dt_model2 = DecisionTreeClassifier(max_depth=best_params['max_depth'],\n",
    "                                 min_samples_leaf=best_params['min_samples_leaf'],\n",
    "                                 min_samples_split=best_params['min_samples_split'],\n",
    "                                 random_state=20)"
   ]
  },
  {
   "cell_type": "code",
   "execution_count": 90,
   "metadata": {},
   "outputs": [
    {
     "name": "stdout",
     "output_type": "stream",
     "text": [
      "\n",
      "Confusion Matrix:\n"
     ]
    },
    {
     "data": {
      "image/png": "[encoded data removed]",
      "text/plain": [
       "<Figure size 1100x400 with 4 Axes>"
      ]
     },
     "metadata": {},
     "output_type": "display_data"
    },
    {
     "name": "stdout",
     "output_type": "stream",
     "text": [
      "\n",
      "Train Classification Report:\n",
      "|              |   precision |   recall |   f1-score |    support |\n",
      "|:-------------|------------:|---------:|-----------:|-----------:|\n",
      "| 0            |    1        | 1        |   1        |  36        |\n",
      "| 1            |    1        | 0.909091 |   0.952381 |  33        |\n",
      "| 2            |    0.923077 | 1        |   0.96     |  36        |\n",
      "| accuracy     |    0.971429 | 0.971429 |   0.971429 |   0.971429 |\n",
      "| macro avg    |    0.974359 | 0.969697 |   0.970794 | 105        |\n",
      "| weighted avg |    0.973626 | 0.971429 |   0.97132  | 105        |\n",
      "\n",
      "Test Classification Report:\n",
      "|              |   precision |   recall |   f1-score |   support |\n",
      "|:-------------|------------:|---------:|-----------:|----------:|\n",
      "| 0            |    1        | 1        |   1        | 14        |\n",
      "| 1            |    0.933333 | 0.823529 |   0.875    | 17        |\n",
      "| 2            |    0.8125   | 0.928571 |   0.866667 | 14        |\n",
      "| accuracy     |    0.911111 | 0.911111 |   0.911111 |  0.911111 |\n",
      "| macro avg    |    0.915278 | 0.917367 |   0.913889 | 45        |\n",
      "| weighted avg |    0.916481 | 0.911111 |   0.911296 | 45        |\n"
     ]
    }
   ],
   "source": [
    "# Visualizing evaluation Metric Score chart\n",
    "dt2_score = evaluate_model(dt_model2, x_train, x_test, y_train, y_test)"
   ]
  },
  {
   "cell_type": "code",
   "execution_count": 91,
   "metadata": {},
   "outputs": [],
   "source": [
    "score['Decision Tree tuned'] = dt2_score"
   ]
  },
  {
   "cell_type": "code",
   "execution_count": 92,
   "metadata": {},
   "outputs": [
    {
     "data": {
      "text/html": [
       "<div>\n",
       "<style scoped>\n",
       "    .dataframe tbody tr th:only-of-type {\n",
       "        vertical-align: middle;\n",
       "    }\n",
       "\n",
       "    .dataframe tbody tr th {\n",
       "        vertical-align: top;\n",
       "    }\n",
       "\n",
       "    .dataframe thead th {\n",
       "        text-align: right;\n",
       "    }\n",
       "</style>\n",
       "<table border=\"1\" class=\"dataframe\">\n",
       "  <thead>\n",
       "    <tr style=\"text-align: right;\">\n",
       "      <th></th>\n",
       "      <th>Logistic regression</th>\n",
       "      <th>Logistic regression tuned</th>\n",
       "      <th>Decision Tree</th>\n",
       "      <th>Decision Tree tuned</th>\n",
       "    </tr>\n",
       "  </thead>\n",
       "  <tbody>\n",
       "    <tr>\n",
       "      <th>Precision Train</th>\n",
       "      <td>0.981955</td>\n",
       "      <td>0.981955</td>\n",
       "      <td>1.000000</td>\n",
       "      <td>0.973626</td>\n",
       "    </tr>\n",
       "    <tr>\n",
       "      <th>Precision Test</th>\n",
       "      <td>0.934093</td>\n",
       "      <td>0.955556</td>\n",
       "      <td>0.934093</td>\n",
       "      <td>0.916481</td>\n",
       "    </tr>\n",
       "    <tr>\n",
       "      <th>Recall Train</th>\n",
       "      <td>0.980952</td>\n",
       "      <td>0.980952</td>\n",
       "      <td>1.000000</td>\n",
       "      <td>0.971429</td>\n",
       "    </tr>\n",
       "    <tr>\n",
       "      <th>Recall Test</th>\n",
       "      <td>0.933333</td>\n",
       "      <td>0.955556</td>\n",
       "      <td>0.933333</td>\n",
       "      <td>0.911111</td>\n",
       "    </tr>\n",
       "    <tr>\n",
       "      <th>Accuracy Train</th>\n",
       "      <td>0.980952</td>\n",
       "      <td>0.980952</td>\n",
       "      <td>1.000000</td>\n",
       "      <td>0.971429</td>\n",
       "    </tr>\n",
       "    <tr>\n",
       "      <th>Accuracy Test</th>\n",
       "      <td>0.933333</td>\n",
       "      <td>0.955556</td>\n",
       "      <td>0.933333</td>\n",
       "      <td>0.911111</td>\n",
       "    </tr>\n",
       "    <tr>\n",
       "      <th>F1 macro Train</th>\n",
       "      <td>0.980912</td>\n",
       "      <td>0.980912</td>\n",
       "      <td>1.000000</td>\n",
       "      <td>0.971320</td>\n",
       "    </tr>\n",
       "    <tr>\n",
       "      <th>F1 macro Test</th>\n",
       "      <td>0.933051</td>\n",
       "      <td>0.955556</td>\n",
       "      <td>0.933051</td>\n",
       "      <td>0.911296</td>\n",
       "    </tr>\n",
       "  </tbody>\n",
       "</table>\n",
       "</div>"
      ],
      "text/plain": [
       "                 Logistic regression  Logistic regression tuned  \\\n",
       "Precision Train             0.981955                   0.981955   \n",
       "Precision Test              0.934093                   0.955556   \n",
       "Recall Train                0.980952                   0.980952   \n",
       "Recall Test                 0.933333                   0.955556   \n",
       "Accuracy Train              0.980952                   0.980952   \n",
       "Accuracy Test               0.933333                   0.955556   \n",
       "F1 macro Train              0.980912                   0.980912   \n",
       "F1 macro Test               0.933051                   0.955556   \n",
       "\n",
       "                 Decision Tree  Decision Tree tuned  \n",
       "Precision Train       1.000000             0.973626  \n",
       "Precision Test        0.934093             0.916481  \n",
       "Recall Train          1.000000             0.971429  \n",
       "Recall Test           0.933333             0.911111  \n",
       "Accuracy Train        1.000000             0.971429  \n",
       "Accuracy Test         0.933333             0.911111  \n",
       "F1 macro Train        1.000000             0.971320  \n",
       "F1 macro Test         0.933051             0.911296  "
      ]
     },
     "execution_count": 92,
     "metadata": {},
     "output_type": "execute_result"
    }
   ],
   "source": [
    "score"
   ]
  },
  {
   "cell_type": "markdown",
   "metadata": {},
   "source": []
  },
  {
   "cell_type": "markdown",
   "metadata": {},
   "source": [
    "### Model - 3 : Random Forest"
   ]
  },
  {
   "cell_type": "code",
   "execution_count": 93,
   "metadata": {},
   "outputs": [],
   "source": [
    "rf_model = RandomForestClassifier(random_state=0)"
   ]
  },
  {
   "cell_type": "code",
   "execution_count": 94,
   "metadata": {},
   "outputs": [
    {
     "name": "stdout",
     "output_type": "stream",
     "text": [
      "\n",
      "Confusion Matrix:\n"
     ]
    },
    {
     "data": {
      "image/png": "[encoded data removed]",
      "text/plain": [
       "<Figure size 1100x400 with 4 Axes>"
      ]
     },
     "metadata": {},
     "output_type": "display_data"
    },
    {
     "name": "stdout",
     "output_type": "stream",
     "text": [
      "\n",
      "Train Classification Report:\n",
      "|              |   precision |   recall |   f1-score |   support |\n",
      "|:-------------|------------:|---------:|-----------:|----------:|\n",
      "| 0            |           1 |        1 |          1 |        36 |\n",
      "| 1            |           1 |        1 |          1 |        33 |\n",
      "| 2            |           1 |        1 |          1 |        36 |\n",
      "| accuracy     |           1 |        1 |          1 |         1 |\n",
      "| macro avg    |           1 |        1 |          1 |       105 |\n",
      "| weighted avg |           1 |        1 |          1 |       105 |\n",
      "\n",
      "Test Classification Report:\n",
      "|              |   precision |   recall |   f1-score |   support |\n",
      "|:-------------|------------:|---------:|-----------:|----------:|\n",
      "| 0            |    1        | 1        |   1        | 14        |\n",
      "| 1            |    0.888889 | 0.941176 |   0.914286 | 17        |\n",
      "| 2            |    0.923077 | 0.857143 |   0.888889 | 14        |\n",
      "| accuracy     |    0.933333 | 0.933333 |   0.933333 |  0.933333 |\n",
      "| macro avg    |    0.937322 | 0.932773 |   0.934392 | 45        |\n",
      "| weighted avg |    0.934093 | 0.933333 |   0.933051 | 45        |\n"
     ]
    }
   ],
   "source": [
    "rf_score = evaluate_model(rf_model,x_train,x_test,y_train,y_test)"
   ]
  },
  {
   "cell_type": "code",
   "execution_count": 95,
   "metadata": {},
   "outputs": [
    {
     "data": {
      "text/html": [
       "<div>\n",
       "<style scoped>\n",
       "    .dataframe tbody tr th:only-of-type {\n",
       "        vertical-align: middle;\n",
       "    }\n",
       "\n",
       "    .dataframe tbody tr th {\n",
       "        vertical-align: top;\n",
       "    }\n",
       "\n",
       "    .dataframe thead th {\n",
       "        text-align: right;\n",
       "    }\n",
       "</style>\n",
       "<table border=\"1\" class=\"dataframe\">\n",
       "  <thead>\n",
       "    <tr style=\"text-align: right;\">\n",
       "      <th></th>\n",
       "      <th>Logistic regression</th>\n",
       "      <th>Logistic regression tuned</th>\n",
       "      <th>Decision Tree</th>\n",
       "      <th>Decision Tree tuned</th>\n",
       "      <th>Random Forest</th>\n",
       "    </tr>\n",
       "  </thead>\n",
       "  <tbody>\n",
       "    <tr>\n",
       "      <th>Precision Train</th>\n",
       "      <td>0.981955</td>\n",
       "      <td>0.981955</td>\n",
       "      <td>1.000000</td>\n",
       "      <td>0.973626</td>\n",
       "      <td>1.000000</td>\n",
       "    </tr>\n",
       "    <tr>\n",
       "      <th>Precision Test</th>\n",
       "      <td>0.934093</td>\n",
       "      <td>0.955556</td>\n",
       "      <td>0.934093</td>\n",
       "      <td>0.916481</td>\n",
       "      <td>0.934093</td>\n",
       "    </tr>\n",
       "    <tr>\n",
       "      <th>Recall Train</th>\n",
       "      <td>0.980952</td>\n",
       "      <td>0.980952</td>\n",
       "      <td>1.000000</td>\n",
       "      <td>0.971429</td>\n",
       "      <td>1.000000</td>\n",
       "    </tr>\n",
       "    <tr>\n",
       "      <th>Recall Test</th>\n",
       "      <td>0.933333</td>\n",
       "      <td>0.955556</td>\n",
       "      <td>0.933333</td>\n",
       "      <td>0.911111</td>\n",
       "      <td>0.933333</td>\n",
       "    </tr>\n",
       "    <tr>\n",
       "      <th>Accuracy Train</th>\n",
       "      <td>0.980952</td>\n",
       "      <td>0.980952</td>\n",
       "      <td>1.000000</td>\n",
       "      <td>0.971429</td>\n",
       "      <td>1.000000</td>\n",
       "    </tr>\n",
       "    <tr>\n",
       "      <th>Accuracy Test</th>\n",
       "      <td>0.933333</td>\n",
       "      <td>0.955556</td>\n",
       "      <td>0.933333</td>\n",
       "      <td>0.911111</td>\n",
       "      <td>0.933333</td>\n",
       "    </tr>\n",
       "    <tr>\n",
       "      <th>F1 macro Train</th>\n",
       "      <td>0.980912</td>\n",
       "      <td>0.980912</td>\n",
       "      <td>1.000000</td>\n",
       "      <td>0.971320</td>\n",
       "      <td>1.000000</td>\n",
       "    </tr>\n",
       "    <tr>\n",
       "      <th>F1 macro Test</th>\n",
       "      <td>0.933051</td>\n",
       "      <td>0.955556</td>\n",
       "      <td>0.933051</td>\n",
       "      <td>0.911296</td>\n",
       "      <td>0.933051</td>\n",
       "    </tr>\n",
       "  </tbody>\n",
       "</table>\n",
       "</div>"
      ],
      "text/plain": [
       "                 Logistic regression  Logistic regression tuned  \\\n",
       "Precision Train             0.981955                   0.981955   \n",
       "Precision Test              0.934093                   0.955556   \n",
       "Recall Train                0.980952                   0.980952   \n",
       "Recall Test                 0.933333                   0.955556   \n",
       "Accuracy Train              0.980952                   0.980952   \n",
       "Accuracy Test               0.933333                   0.955556   \n",
       "F1 macro Train              0.980912                   0.980912   \n",
       "F1 macro Test               0.933051                   0.955556   \n",
       "\n",
       "                 Decision Tree  Decision Tree tuned  Random Forest  \n",
       "Precision Train       1.000000             0.973626       1.000000  \n",
       "Precision Test        0.934093             0.916481       0.934093  \n",
       "Recall Train          1.000000             0.971429       1.000000  \n",
       "Recall Test           0.933333             0.911111       0.933333  \n",
       "Accuracy Train        1.000000             0.971429       1.000000  \n",
       "Accuracy Test         0.933333             0.911111       0.933333  \n",
       "F1 macro Train        1.000000             0.971320       1.000000  \n",
       "F1 macro Test         0.933051             0.911296       0.933051  "
      ]
     },
     "execution_count": 95,
     "metadata": {},
     "output_type": "execute_result"
    }
   ],
   "source": [
    "# Updated Evaluation metric Score Chart\n",
    "score['Random Forest'] = rf_score\n",
    "score"
   ]
  },
  {
   "cell_type": "markdown",
   "metadata": {},
   "source": []
  },
  {
   "cell_type": "markdown",
   "metadata": {},
   "source": [
    "### 2. Cross- Validation & Hyperparameter Tuning\n"
   ]
  },
  {
   "cell_type": "code",
   "execution_count": 96,
   "metadata": {},
   "outputs": [
    {
     "name": "stdout",
     "output_type": "stream",
     "text": [
      "Best hyperparameters:  {'n_estimators': 50, 'min_samples_split': 3, 'max_depth': 15}\n"
     ]
    }
   ],
   "source": [
    "# ML Model - 3 Implementation with hyperparameter optimization techniques (i.e., GridSearch CV, RandomSearch CV, Bayesian Optimization etc.)\n",
    "# Define the hyperparameter grid\n",
    "grid = {'n_estimators': [10, 50, 100, 200],\n",
    "              'max_depth': [8, 9, 10, 11, 12,13, 14, 15],\n",
    "              'min_samples_split': [2, 3, 4, 5]}\n",
    "\n",
    "# Initialize the model\n",
    "rf = RandomForestClassifier(random_state=0)\n",
    "\n",
    "# Repeated stratified kfold\n",
    "rskf = RepeatedStratifiedKFold(n_splits=3, n_repeats=3, random_state=0)\n",
    "\n",
    "# Initialize RandomSearchCV\n",
    "random_search = RandomizedSearchCV(rf, grid,cv=rskf, n_iter=10, n_jobs=-1)\n",
    "\n",
    "# Fit the RandomSearchCV to the training data\n",
    "random_search.fit(x_train, y_train)\n",
    "\n",
    "# Select the best hyperparameters\n",
    "best_params = random_search.best_params_\n",
    "print(\"Best hyperparameters: \", best_params)"
   ]
  },
  {
   "cell_type": "code",
   "execution_count": 97,
   "metadata": {},
   "outputs": [],
   "source": [
    "# Initialize model with best parameters\n",
    "rf_model2 = RandomForestClassifier(n_estimators = best_params['n_estimators'],\n",
    "                                 min_samples_leaf= best_params['min_samples_split'],\n",
    "                                 max_depth = best_params['max_depth'],\n",
    "                                 random_state=0)"
   ]
  },
  {
   "cell_type": "code",
   "execution_count": 98,
   "metadata": {},
   "outputs": [
    {
     "name": "stdout",
     "output_type": "stream",
     "text": [
      "\n",
      "Confusion Matrix:\n"
     ]
    },
    {
     "data": {
      "image/png": "[encoded data removed]",
      "text/plain": [
       "<Figure size 1100x400 with 4 Axes>"
      ]
     },
     "metadata": {},
     "output_type": "display_data"
    },
    {
     "name": "stdout",
     "output_type": "stream",
     "text": [
      "\n",
      "Train Classification Report:\n",
      "|              |   precision |   recall |   f1-score |    support |\n",
      "|:-------------|------------:|---------:|-----------:|-----------:|\n",
      "| 0            |    1        | 1        |   1        |  36        |\n",
      "| 1            |    1        | 0.939394 |   0.96875  |  33        |\n",
      "| 2            |    0.947368 | 1        |   0.972973 |  36        |\n",
      "| accuracy     |    0.980952 | 0.980952 |   0.980952 |   0.980952 |\n",
      "| macro avg    |    0.982456 | 0.979798 |   0.980574 | 105        |\n",
      "| weighted avg |    0.981955 | 0.980952 |   0.980912 | 105        |\n",
      "\n",
      "Test Classification Report:\n",
      "|              |   precision |   recall |   f1-score |   support |\n",
      "|:-------------|------------:|---------:|-----------:|----------:|\n",
      "| 0            |    1        | 1        |   1        | 14        |\n",
      "| 1            |    0.9375   | 0.882353 |   0.909091 | 17        |\n",
      "| 2            |    0.866667 | 0.928571 |   0.896552 | 14        |\n",
      "| accuracy     |    0.933333 | 0.933333 |   0.933333 |  0.933333 |\n",
      "| macro avg    |    0.934722 | 0.936975 |   0.935214 | 45        |\n",
      "| weighted avg |    0.934907 | 0.933333 |   0.933473 | 45        |\n"
     ]
    }
   ],
   "source": [
    "# Visualizing evaluation Metric Score chart\n",
    "rf2_score = evaluate_model(rf_model2, x_train, x_test, y_train, y_test)"
   ]
  },
  {
   "cell_type": "code",
   "execution_count": 99,
   "metadata": {},
   "outputs": [],
   "source": [
    "score['Random Forest tuned'] = rf2_score"
   ]
  },
  {
   "cell_type": "code",
   "execution_count": 100,
   "metadata": {},
   "outputs": [
    {
     "data": {
      "text/html": [
       "<div>\n",
       "<style scoped>\n",
       "    .dataframe tbody tr th:only-of-type {\n",
       "        vertical-align: middle;\n",
       "    }\n",
       "\n",
       "    .dataframe tbody tr th {\n",
       "        vertical-align: top;\n",
       "    }\n",
       "\n",
       "    .dataframe thead th {\n",
       "        text-align: right;\n",
       "    }\n",
       "</style>\n",
       "<table border=\"1\" class=\"dataframe\">\n",
       "  <thead>\n",
       "    <tr style=\"text-align: right;\">\n",
       "      <th></th>\n",
       "      <th>Logistic regression</th>\n",
       "      <th>Logistic regression tuned</th>\n",
       "      <th>Decision Tree</th>\n",
       "      <th>Decision Tree tuned</th>\n",
       "      <th>Random Forest</th>\n",
       "      <th>Random Forest tuned</th>\n",
       "    </tr>\n",
       "  </thead>\n",
       "  <tbody>\n",
       "    <tr>\n",
       "      <th>Precision Train</th>\n",
       "      <td>0.981955</td>\n",
       "      <td>0.981955</td>\n",
       "      <td>1.000000</td>\n",
       "      <td>0.973626</td>\n",
       "      <td>1.000000</td>\n",
       "      <td>0.981955</td>\n",
       "    </tr>\n",
       "    <tr>\n",
       "      <th>Precision Test</th>\n",
       "      <td>0.934093</td>\n",
       "      <td>0.955556</td>\n",
       "      <td>0.934093</td>\n",
       "      <td>0.916481</td>\n",
       "      <td>0.934093</td>\n",
       "      <td>0.934907</td>\n",
       "    </tr>\n",
       "    <tr>\n",
       "      <th>Recall Train</th>\n",
       "      <td>0.980952</td>\n",
       "      <td>0.980952</td>\n",
       "      <td>1.000000</td>\n",
       "      <td>0.971429</td>\n",
       "      <td>1.000000</td>\n",
       "      <td>0.980952</td>\n",
       "    </tr>\n",
       "    <tr>\n",
       "      <th>Recall Test</th>\n",
       "      <td>0.933333</td>\n",
       "      <td>0.955556</td>\n",
       "      <td>0.933333</td>\n",
       "      <td>0.911111</td>\n",
       "      <td>0.933333</td>\n",
       "      <td>0.933333</td>\n",
       "    </tr>\n",
       "    <tr>\n",
       "      <th>Accuracy Train</th>\n",
       "      <td>0.980952</td>\n",
       "      <td>0.980952</td>\n",
       "      <td>1.000000</td>\n",
       "      <td>0.971429</td>\n",
       "      <td>1.000000</td>\n",
       "      <td>0.980952</td>\n",
       "    </tr>\n",
       "    <tr>\n",
       "      <th>Accuracy Test</th>\n",
       "      <td>0.933333</td>\n",
       "      <td>0.955556</td>\n",
       "      <td>0.933333</td>\n",
       "      <td>0.911111</td>\n",
       "      <td>0.933333</td>\n",
       "      <td>0.933333</td>\n",
       "    </tr>\n",
       "    <tr>\n",
       "      <th>F1 macro Train</th>\n",
       "      <td>0.980912</td>\n",
       "      <td>0.980912</td>\n",
       "      <td>1.000000</td>\n",
       "      <td>0.971320</td>\n",
       "      <td>1.000000</td>\n",
       "      <td>0.980912</td>\n",
       "    </tr>\n",
       "    <tr>\n",
       "      <th>F1 macro Test</th>\n",
       "      <td>0.933051</td>\n",
       "      <td>0.955556</td>\n",
       "      <td>0.933051</td>\n",
       "      <td>0.911296</td>\n",
       "      <td>0.933051</td>\n",
       "      <td>0.933473</td>\n",
       "    </tr>\n",
       "  </tbody>\n",
       "</table>\n",
       "</div>"
      ],
      "text/plain": [
       "                 Logistic regression  Logistic regression tuned  \\\n",
       "Precision Train             0.981955                   0.981955   \n",
       "Precision Test              0.934093                   0.955556   \n",
       "Recall Train                0.980952                   0.980952   \n",
       "Recall Test                 0.933333                   0.955556   \n",
       "Accuracy Train              0.980952                   0.980952   \n",
       "Accuracy Test               0.933333                   0.955556   \n",
       "F1 macro Train              0.980912                   0.980912   \n",
       "F1 macro Test               0.933051                   0.955556   \n",
       "\n",
       "                 Decision Tree  Decision Tree tuned  Random Forest  \\\n",
       "Precision Train       1.000000             0.973626       1.000000   \n",
       "Precision Test        0.934093             0.916481       0.934093   \n",
       "Recall Train          1.000000             0.971429       1.000000   \n",
       "Recall Test           0.933333             0.911111       0.933333   \n",
       "Accuracy Train        1.000000             0.971429       1.000000   \n",
       "Accuracy Test         0.933333             0.911111       0.933333   \n",
       "F1 macro Train        1.000000             0.971320       1.000000   \n",
       "F1 macro Test         0.933051             0.911296       0.933051   \n",
       "\n",
       "                 Random Forest tuned  \n",
       "Precision Train             0.981955  \n",
       "Precision Test              0.934907  \n",
       "Recall Train                0.980952  \n",
       "Recall Test                 0.933333  \n",
       "Accuracy Train              0.980952  \n",
       "Accuracy Test               0.933333  \n",
       "F1 macro Train              0.980912  \n",
       "F1 macro Test               0.933473  "
      ]
     },
     "execution_count": 100,
     "metadata": {},
     "output_type": "execute_result"
    }
   ],
   "source": [
    "score"
   ]
  },
  {
   "cell_type": "markdown",
   "metadata": {},
   "source": []
  },
  {
   "cell_type": "markdown",
   "metadata": {},
   "source": [
    "### ML Model - 4 : SVM (Support Vector Machine)\n"
   ]
  },
  {
   "cell_type": "code",
   "execution_count": 101,
   "metadata": {},
   "outputs": [],
   "source": [
    "svm_model = SVC(kernel='linear',random_state=0,probability=True)\n"
   ]
  },
  {
   "cell_type": "code",
   "execution_count": null,
   "metadata": {},
   "outputs": [
    {
     "name": "stdout",
     "output_type": "stream",
     "text": [
      "\n",
      "Confusion Matrix:\n"
     ]
    },
    {
     "data": {
      "image/png": "[encoded data removed]",
      "text/plain": [
       "<Figure size 1100x400 with 4 Axes>"
      ]
     },
     "metadata": {},
     "output_type": "display_data"
    },
    {
     "name": "stdout",
     "output_type": "stream",
     "text": [
      "\n",
      "Train Classification Report:\n",
      "|              |   precision |   recall |   f1-score |    support |\n",
      "|:-------------|------------:|---------:|-----------:|-----------:|\n",
      "| 0            |    1        | 1        |   1        |  36        |\n",
      "| 1            |    1        | 0.909091 |   0.952381 |  33        |\n",
      "| 2            |    0.923077 | 1        |   0.96     |  36        |\n",
      "| accuracy     |    0.971429 | 0.971429 |   0.971429 |   0.971429 |\n",
      "| macro avg    |    0.974359 | 0.969697 |   0.970794 | 105        |\n",
      "| weighted avg |    0.973626 | 0.971429 |   0.97132  | 105        |\n",
      "\n",
      "Test Classification Report:\n",
      "|              |   precision |   recall |   f1-score |   support |\n",
      "|:-------------|------------:|---------:|-----------:|----------:|\n",
      "| 0            |    1        | 1        |   1        | 14        |\n",
      "| 1            |    0.941176 | 0.941176 |   0.941176 | 17        |\n",
      "| 2            |    0.928571 | 0.928571 |   0.928571 | 14        |\n",
      "| accuracy     |    0.955556 | 0.955556 |   0.955556 |  0.955556 |\n",
      "| macro avg    |    0.956583 | 0.956583 |   0.956583 | 45        |\n",
      "| weighted avg |    0.955556 | 0.955556 |   0.955556 | 45        |\n"
     ]
    }
   ],
   "source": [
    "svm_score = evaluate_model(svm_model,x_train,x_test,y_train,y_test)\n"
   ]
  },
  {
   "cell_type": "code",
   "execution_count": 103,
   "metadata": {},
   "outputs": [
    {
     "data": {
      "text/html": [
       "<div>\n",
       "<style scoped>\n",
       "    .dataframe tbody tr th:only-of-type {\n",
       "        vertical-align: middle;\n",
       "    }\n",
       "\n",
       "    .dataframe tbody tr th {\n",
       "        vertical-align: top;\n",
       "    }\n",
       "\n",
       "    .dataframe thead th {\n",
       "        text-align: right;\n",
       "    }\n",
       "</style>\n",
       "<table border=\"1\" class=\"dataframe\">\n",
       "  <thead>\n",
       "    <tr style=\"text-align: right;\">\n",
       "      <th></th>\n",
       "      <th>Logistic regression</th>\n",
       "      <th>Logistic regression tuned</th>\n",
       "      <th>Decision Tree</th>\n",
       "      <th>Decision Tree tuned</th>\n",
       "      <th>Random Forest</th>\n",
       "      <th>Random Forest tuned</th>\n",
       "      <th>SVM</th>\n",
       "    </tr>\n",
       "  </thead>\n",
       "  <tbody>\n",
       "    <tr>\n",
       "      <th>Precision Train</th>\n",
       "      <td>0.981955</td>\n",
       "      <td>0.981955</td>\n",
       "      <td>1.000000</td>\n",
       "      <td>0.973626</td>\n",
       "      <td>1.000000</td>\n",
       "      <td>0.981955</td>\n",
       "      <td>0.973626</td>\n",
       "    </tr>\n",
       "    <tr>\n",
       "      <th>Precision Test</th>\n",
       "      <td>0.934093</td>\n",
       "      <td>0.955556</td>\n",
       "      <td>0.934093</td>\n",
       "      <td>0.916481</td>\n",
       "      <td>0.934093</td>\n",
       "      <td>0.934907</td>\n",
       "      <td>0.955556</td>\n",
       "    </tr>\n",
       "    <tr>\n",
       "      <th>Recall Train</th>\n",
       "      <td>0.980952</td>\n",
       "      <td>0.980952</td>\n",
       "      <td>1.000000</td>\n",
       "      <td>0.971429</td>\n",
       "      <td>1.000000</td>\n",
       "      <td>0.980952</td>\n",
       "      <td>0.971429</td>\n",
       "    </tr>\n",
       "    <tr>\n",
       "      <th>Recall Test</th>\n",
       "      <td>0.933333</td>\n",
       "      <td>0.955556</td>\n",
       "      <td>0.933333</td>\n",
       "      <td>0.911111</td>\n",
       "      <td>0.933333</td>\n",
       "      <td>0.933333</td>\n",
       "      <td>0.955556</td>\n",
       "    </tr>\n",
       "    <tr>\n",
       "      <th>Accuracy Train</th>\n",
       "      <td>0.980952</td>\n",
       "      <td>0.980952</td>\n",
       "      <td>1.000000</td>\n",
       "      <td>0.971429</td>\n",
       "      <td>1.000000</td>\n",
       "      <td>0.980952</td>\n",
       "      <td>0.971429</td>\n",
       "    </tr>\n",
       "    <tr>\n",
       "      <th>Accuracy Test</th>\n",
       "      <td>0.933333</td>\n",
       "      <td>0.955556</td>\n",
       "      <td>0.933333</td>\n",
       "      <td>0.911111</td>\n",
       "      <td>0.933333</td>\n",
       "      <td>0.933333</td>\n",
       "      <td>0.955556</td>\n",
       "    </tr>\n",
       "    <tr>\n",
       "      <th>F1 macro Train</th>\n",
       "      <td>0.980912</td>\n",
       "      <td>0.980912</td>\n",
       "      <td>1.000000</td>\n",
       "      <td>0.971320</td>\n",
       "      <td>1.000000</td>\n",
       "      <td>0.980912</td>\n",
       "      <td>0.971320</td>\n",
       "    </tr>\n",
       "    <tr>\n",
       "      <th>F1 macro Test</th>\n",
       "      <td>0.933051</td>\n",
       "      <td>0.955556</td>\n",
       "      <td>0.933051</td>\n",
       "      <td>0.911296</td>\n",
       "      <td>0.933051</td>\n",
       "      <td>0.933473</td>\n",
       "      <td>0.955556</td>\n",
       "    </tr>\n",
       "  </tbody>\n",
       "</table>\n",
       "</div>"
      ],
      "text/plain": [
       "                 Logistic regression  Logistic regression tuned  \\\n",
       "Precision Train             0.981955                   0.981955   \n",
       "Precision Test              0.934093                   0.955556   \n",
       "Recall Train                0.980952                   0.980952   \n",
       "Recall Test                 0.933333                   0.955556   \n",
       "Accuracy Train              0.980952                   0.980952   \n",
       "Accuracy Test               0.933333                   0.955556   \n",
       "F1 macro Train              0.980912                   0.980912   \n",
       "F1 macro Test               0.933051                   0.955556   \n",
       "\n",
       "                 Decision Tree  Decision Tree tuned  Random Forest  \\\n",
       "Precision Train       1.000000             0.973626       1.000000   \n",
       "Precision Test        0.934093             0.916481       0.934093   \n",
       "Recall Train          1.000000             0.971429       1.000000   \n",
       "Recall Test           0.933333             0.911111       0.933333   \n",
       "Accuracy Train        1.000000             0.971429       1.000000   \n",
       "Accuracy Test         0.933333             0.911111       0.933333   \n",
       "F1 macro Train        1.000000             0.971320       1.000000   \n",
       "F1 macro Test         0.933051             0.911296       0.933051   \n",
       "\n",
       "                 Random Forest tuned       SVM  \n",
       "Precision Train             0.981955  0.973626  \n",
       "Precision Test              0.934907  0.955556  \n",
       "Recall Train                0.980952  0.971429  \n",
       "Recall Test                 0.933333  0.955556  \n",
       "Accuracy Train              0.980952  0.971429  \n",
       "Accuracy Test               0.933333  0.955556  \n",
       "F1 macro Train              0.980912  0.971320  \n",
       "F1 macro Test               0.933473  0.955556  "
      ]
     },
     "execution_count": 103,
     "metadata": {},
     "output_type": "execute_result"
    }
   ],
   "source": [
    "# Updated Evaluation metric Score Chart\n",
    "score['SVM'] = svm_score\n",
    "score"
   ]
  },
  {
   "cell_type": "markdown",
   "metadata": {},
   "source": []
  },
  {
   "cell_type": "markdown",
   "metadata": {},
   "source": [
    "### 2. Cross- Validation & Hyperparameter Tuning\n"
   ]
  },
  {
   "cell_type": "code",
   "execution_count": 104,
   "metadata": {},
   "outputs": [
    {
     "name": "stdout",
     "output_type": "stream",
     "text": [
      "Best hyperparameters:  {'kernel': 'rbf', 'degree': 2, 'C': 5.6}\n"
     ]
    }
   ],
   "source": [
    "# ML Model - 4 Implementation with hyperparameter optimization techniques (i.e., GridSearch CV, RandomSearch CV, Bayesian Optimization etc.)\n",
    "# Define the hyperparameter grid\n",
    "param_grid = {'C': np.arange(0.1, 10, 0.1),\n",
    "              'kernel': ['linear', 'poly', 'rbf', 'sigmoid'],\n",
    "              'degree': np.arange(2, 6, 1)}\n",
    "\n",
    "# Initialize the model\n",
    "svm = SVC(random_state=0, probability=True)\n",
    "\n",
    "# Repeated stratified kfold\n",
    "rskf = RepeatedStratifiedKFold(n_splits=3, n_repeats=3, random_state=0)\n",
    "\n",
    "# Initialize RandomizedSearchCV with kfold cross-validation\n",
    "random_search = RandomizedSearchCV(svm, param_grid, n_iter=10, cv=rskf, n_jobs=-1)\n",
    "\n",
    "# Fit the RandomizedSearchCV to the training data\n",
    "random_search.fit(x_train, y_train)\n",
    "\n",
    "# Select the best hyperparameters\n",
    "best_params = random_search.best_params_\n",
    "print(\"Best hyperparameters: \", best_params)"
   ]
  },
  {
   "cell_type": "code",
   "execution_count": 105,
   "metadata": {},
   "outputs": [],
   "source": [
    "svm_model2 = SVC(C = best_params['C'],\n",
    "           kernel = best_params['kernel'],\n",
    "           degree = best_params['degree'],\n",
    "           random_state=0, probability=True)"
   ]
  },
  {
   "cell_type": "code",
   "execution_count": 106,
   "metadata": {},
   "outputs": [
    {
     "name": "stdout",
     "output_type": "stream",
     "text": [
      "\n",
      "Confusion Matrix:\n"
     ]
    },
    {
     "data": {
      "image/png": "[encoded data removed]",
      "text/plain": [
       "<Figure size 1100x400 with 4 Axes>"
      ]
     },
     "metadata": {},
     "output_type": "display_data"
    },
    {
     "name": "stdout",
     "output_type": "stream",
     "text": [
      "\n",
      "Train Classification Report:\n",
      "|              |   precision |   recall |   f1-score |    support |\n",
      "|:-------------|------------:|---------:|-----------:|-----------:|\n",
      "| 0            |    1        | 1        |   1        |  36        |\n",
      "| 1            |    1        | 0.909091 |   0.952381 |  33        |\n",
      "| 2            |    0.923077 | 1        |   0.96     |  36        |\n",
      "| accuracy     |    0.971429 | 0.971429 |   0.971429 |   0.971429 |\n",
      "| macro avg    |    0.974359 | 0.969697 |   0.970794 | 105        |\n",
      "| weighted avg |    0.973626 | 0.971429 |   0.97132  | 105        |\n",
      "\n",
      "Test Classification Report:\n",
      "|              |   precision |   recall |   f1-score |   support |\n",
      "|:-------------|------------:|---------:|-----------:|----------:|\n",
      "| 0            |    1        | 1        |   1        | 14        |\n",
      "| 1            |    0.941176 | 0.941176 |   0.941176 | 17        |\n",
      "| 2            |    0.928571 | 0.928571 |   0.928571 | 14        |\n",
      "| accuracy     |    0.955556 | 0.955556 |   0.955556 |  0.955556 |\n",
      "| macro avg    |    0.956583 | 0.956583 |   0.956583 | 45        |\n",
      "| weighted avg |    0.955556 | 0.955556 |   0.955556 | 45        |\n"
     ]
    }
   ],
   "source": [
    "svm2_score = evaluate_model(svm_model2, x_train, x_test, y_train, y_test)\n"
   ]
  },
  {
   "cell_type": "code",
   "execution_count": 107,
   "metadata": {},
   "outputs": [
    {
     "data": {
      "text/html": [
       "<div>\n",
       "<style scoped>\n",
       "    .dataframe tbody tr th:only-of-type {\n",
       "        vertical-align: middle;\n",
       "    }\n",
       "\n",
       "    .dataframe tbody tr th {\n",
       "        vertical-align: top;\n",
       "    }\n",
       "\n",
       "    .dataframe thead th {\n",
       "        text-align: right;\n",
       "    }\n",
       "</style>\n",
       "<table border=\"1\" class=\"dataframe\">\n",
       "  <thead>\n",
       "    <tr style=\"text-align: right;\">\n",
       "      <th></th>\n",
       "      <th>Logistic regression</th>\n",
       "      <th>Logistic regression tuned</th>\n",
       "      <th>Decision Tree</th>\n",
       "      <th>Decision Tree tuned</th>\n",
       "      <th>Random Forest</th>\n",
       "      <th>Random Forest tuned</th>\n",
       "      <th>SVM</th>\n",
       "      <th>SVM tuned</th>\n",
       "    </tr>\n",
       "  </thead>\n",
       "  <tbody>\n",
       "    <tr>\n",
       "      <th>Precision Train</th>\n",
       "      <td>0.981955</td>\n",
       "      <td>0.981955</td>\n",
       "      <td>1.000000</td>\n",
       "      <td>0.973626</td>\n",
       "      <td>1.000000</td>\n",
       "      <td>0.981955</td>\n",
       "      <td>0.973626</td>\n",
       "      <td>0.973626</td>\n",
       "    </tr>\n",
       "    <tr>\n",
       "      <th>Precision Test</th>\n",
       "      <td>0.934093</td>\n",
       "      <td>0.955556</td>\n",
       "      <td>0.934093</td>\n",
       "      <td>0.916481</td>\n",
       "      <td>0.934093</td>\n",
       "      <td>0.934907</td>\n",
       "      <td>0.955556</td>\n",
       "      <td>0.955556</td>\n",
       "    </tr>\n",
       "    <tr>\n",
       "      <th>Recall Train</th>\n",
       "      <td>0.980952</td>\n",
       "      <td>0.980952</td>\n",
       "      <td>1.000000</td>\n",
       "      <td>0.971429</td>\n",
       "      <td>1.000000</td>\n",
       "      <td>0.980952</td>\n",
       "      <td>0.971429</td>\n",
       "      <td>0.971429</td>\n",
       "    </tr>\n",
       "    <tr>\n",
       "      <th>Recall Test</th>\n",
       "      <td>0.933333</td>\n",
       "      <td>0.955556</td>\n",
       "      <td>0.933333</td>\n",
       "      <td>0.911111</td>\n",
       "      <td>0.933333</td>\n",
       "      <td>0.933333</td>\n",
       "      <td>0.955556</td>\n",
       "      <td>0.955556</td>\n",
       "    </tr>\n",
       "    <tr>\n",
       "      <th>Accuracy Train</th>\n",
       "      <td>0.980952</td>\n",
       "      <td>0.980952</td>\n",
       "      <td>1.000000</td>\n",
       "      <td>0.971429</td>\n",
       "      <td>1.000000</td>\n",
       "      <td>0.980952</td>\n",
       "      <td>0.971429</td>\n",
       "      <td>0.971429</td>\n",
       "    </tr>\n",
       "    <tr>\n",
       "      <th>Accuracy Test</th>\n",
       "      <td>0.933333</td>\n",
       "      <td>0.955556</td>\n",
       "      <td>0.933333</td>\n",
       "      <td>0.911111</td>\n",
       "      <td>0.933333</td>\n",
       "      <td>0.933333</td>\n",
       "      <td>0.955556</td>\n",
       "      <td>0.955556</td>\n",
       "    </tr>\n",
       "    <tr>\n",
       "      <th>F1 macro Train</th>\n",
       "      <td>0.980912</td>\n",
       "      <td>0.980912</td>\n",
       "      <td>1.000000</td>\n",
       "      <td>0.971320</td>\n",
       "      <td>1.000000</td>\n",
       "      <td>0.980912</td>\n",
       "      <td>0.971320</td>\n",
       "      <td>0.971320</td>\n",
       "    </tr>\n",
       "    <tr>\n",
       "      <th>F1 macro Test</th>\n",
       "      <td>0.933051</td>\n",
       "      <td>0.955556</td>\n",
       "      <td>0.933051</td>\n",
       "      <td>0.911296</td>\n",
       "      <td>0.933051</td>\n",
       "      <td>0.933473</td>\n",
       "      <td>0.955556</td>\n",
       "      <td>0.955556</td>\n",
       "    </tr>\n",
       "  </tbody>\n",
       "</table>\n",
       "</div>"
      ],
      "text/plain": [
       "                 Logistic regression  Logistic regression tuned  \\\n",
       "Precision Train             0.981955                   0.981955   \n",
       "Precision Test              0.934093                   0.955556   \n",
       "Recall Train                0.980952                   0.980952   \n",
       "Recall Test                 0.933333                   0.955556   \n",
       "Accuracy Train              0.980952                   0.980952   \n",
       "Accuracy Test               0.933333                   0.955556   \n",
       "F1 macro Train              0.980912                   0.980912   \n",
       "F1 macro Test               0.933051                   0.955556   \n",
       "\n",
       "                 Decision Tree  Decision Tree tuned  Random Forest  \\\n",
       "Precision Train       1.000000             0.973626       1.000000   \n",
       "Precision Test        0.934093             0.916481       0.934093   \n",
       "Recall Train          1.000000             0.971429       1.000000   \n",
       "Recall Test           0.933333             0.911111       0.933333   \n",
       "Accuracy Train        1.000000             0.971429       1.000000   \n",
       "Accuracy Test         0.933333             0.911111       0.933333   \n",
       "F1 macro Train        1.000000             0.971320       1.000000   \n",
       "F1 macro Test         0.933051             0.911296       0.933051   \n",
       "\n",
       "                 Random Forest tuned       SVM  SVM tuned  \n",
       "Precision Train             0.981955  0.973626   0.973626  \n",
       "Precision Test              0.934907  0.955556   0.955556  \n",
       "Recall Train                0.980952  0.971429   0.971429  \n",
       "Recall Test                 0.933333  0.955556   0.955556  \n",
       "Accuracy Train              0.980952  0.971429   0.971429  \n",
       "Accuracy Test               0.933333  0.955556   0.955556  \n",
       "F1 macro Train              0.980912  0.971320   0.971320  \n",
       "F1 macro Test               0.933473  0.955556   0.955556  "
      ]
     },
     "execution_count": 107,
     "metadata": {},
     "output_type": "execute_result"
    }
   ],
   "source": [
    "score['SVM tuned'] = svm2_score\n",
    "score"
   ]
  },
  {
   "cell_type": "markdown",
   "metadata": {},
   "source": []
  },
  {
   "cell_type": "markdown",
   "metadata": {},
   "source": [
    "### ML Model - 5 : Xtreme Gradient Boosting\n"
   ]
  },
  {
   "cell_type": "code",
   "execution_count": 108,
   "metadata": {},
   "outputs": [],
   "source": [
    "xgb_model = xgb.XGBClassifier()"
   ]
  },
  {
   "cell_type": "code",
   "execution_count": 110,
   "metadata": {},
   "outputs": [
    {
     "name": "stdout",
     "output_type": "stream",
     "text": [
      "\n",
      "Confusion Matrix:\n"
     ]
    },
    {
     "data": {
      "image/png": "[encoded data removed]",
      "text/plain": [
       "<Figure size 1100x400 with 4 Axes>"
      ]
     },
     "metadata": {},
     "output_type": "display_data"
    },
    {
     "name": "stdout",
     "output_type": "stream",
     "text": [
      "\n",
      "Train Classification Report:\n",
      "|              |   precision |   recall |   f1-score |   support |\n",
      "|:-------------|------------:|---------:|-----------:|----------:|\n",
      "| 0            |           1 |        1 |          1 |        36 |\n",
      "| 1            |           1 |        1 |          1 |        33 |\n",
      "| 2            |           1 |        1 |          1 |        36 |\n",
      "| accuracy     |           1 |        1 |          1 |         1 |\n",
      "| macro avg    |           1 |        1 |          1 |       105 |\n",
      "| weighted avg |           1 |        1 |          1 |       105 |\n",
      "\n",
      "Test Classification Report:\n",
      "|              |   precision |   recall |   f1-score |   support |\n",
      "|:-------------|------------:|---------:|-----------:|----------:|\n",
      "| 0            |    1        | 1        |   1        | 14        |\n",
      "| 1            |    0.888889 | 0.941176 |   0.914286 | 17        |\n",
      "| 2            |    0.923077 | 0.857143 |   0.888889 | 14        |\n",
      "| accuracy     |    0.933333 | 0.933333 |   0.933333 |  0.933333 |\n",
      "| macro avg    |    0.937322 | 0.932773 |   0.934392 | 45        |\n",
      "| weighted avg |    0.934093 | 0.933333 |   0.933051 | 45        |\n"
     ]
    }
   ],
   "source": [
    "xgb_score = evaluate_model(xgb_model,x_train,x_test,y_train,y_test)"
   ]
  },
  {
   "cell_type": "code",
   "execution_count": 111,
   "metadata": {},
   "outputs": [
    {
     "data": {
      "text/html": [
       "<div>\n",
       "<style scoped>\n",
       "    .dataframe tbody tr th:only-of-type {\n",
       "        vertical-align: middle;\n",
       "    }\n",
       "\n",
       "    .dataframe tbody tr th {\n",
       "        vertical-align: top;\n",
       "    }\n",
       "\n",
       "    .dataframe thead th {\n",
       "        text-align: right;\n",
       "    }\n",
       "</style>\n",
       "<table border=\"1\" class=\"dataframe\">\n",
       "  <thead>\n",
       "    <tr style=\"text-align: right;\">\n",
       "      <th></th>\n",
       "      <th>Logistic regression</th>\n",
       "      <th>Logistic regression tuned</th>\n",
       "      <th>Decision Tree</th>\n",
       "      <th>Decision Tree tuned</th>\n",
       "      <th>Random Forest</th>\n",
       "      <th>Random Forest tuned</th>\n",
       "      <th>SVM</th>\n",
       "      <th>SVM tuned</th>\n",
       "      <th>XGB</th>\n",
       "    </tr>\n",
       "  </thead>\n",
       "  <tbody>\n",
       "    <tr>\n",
       "      <th>Precision Train</th>\n",
       "      <td>0.981955</td>\n",
       "      <td>0.981955</td>\n",
       "      <td>1.000000</td>\n",
       "      <td>0.973626</td>\n",
       "      <td>1.000000</td>\n",
       "      <td>0.981955</td>\n",
       "      <td>0.973626</td>\n",
       "      <td>0.973626</td>\n",
       "      <td>1.000000</td>\n",
       "    </tr>\n",
       "    <tr>\n",
       "      <th>Precision Test</th>\n",
       "      <td>0.934093</td>\n",
       "      <td>0.955556</td>\n",
       "      <td>0.934093</td>\n",
       "      <td>0.916481</td>\n",
       "      <td>0.934093</td>\n",
       "      <td>0.934907</td>\n",
       "      <td>0.955556</td>\n",
       "      <td>0.955556</td>\n",
       "      <td>0.934093</td>\n",
       "    </tr>\n",
       "    <tr>\n",
       "      <th>Recall Train</th>\n",
       "      <td>0.980952</td>\n",
       "      <td>0.980952</td>\n",
       "      <td>1.000000</td>\n",
       "      <td>0.971429</td>\n",
       "      <td>1.000000</td>\n",
       "      <td>0.980952</td>\n",
       "      <td>0.971429</td>\n",
       "      <td>0.971429</td>\n",
       "      <td>1.000000</td>\n",
       "    </tr>\n",
       "    <tr>\n",
       "      <th>Recall Test</th>\n",
       "      <td>0.933333</td>\n",
       "      <td>0.955556</td>\n",
       "      <td>0.933333</td>\n",
       "      <td>0.911111</td>\n",
       "      <td>0.933333</td>\n",
       "      <td>0.933333</td>\n",
       "      <td>0.955556</td>\n",
       "      <td>0.955556</td>\n",
       "      <td>0.933333</td>\n",
       "    </tr>\n",
       "    <tr>\n",
       "      <th>Accuracy Train</th>\n",
       "      <td>0.980952</td>\n",
       "      <td>0.980952</td>\n",
       "      <td>1.000000</td>\n",
       "      <td>0.971429</td>\n",
       "      <td>1.000000</td>\n",
       "      <td>0.980952</td>\n",
       "      <td>0.971429</td>\n",
       "      <td>0.971429</td>\n",
       "      <td>1.000000</td>\n",
       "    </tr>\n",
       "    <tr>\n",
       "      <th>Accuracy Test</th>\n",
       "      <td>0.933333</td>\n",
       "      <td>0.955556</td>\n",
       "      <td>0.933333</td>\n",
       "      <td>0.911111</td>\n",
       "      <td>0.933333</td>\n",
       "      <td>0.933333</td>\n",
       "      <td>0.955556</td>\n",
       "      <td>0.955556</td>\n",
       "      <td>0.933333</td>\n",
       "    </tr>\n",
       "    <tr>\n",
       "      <th>F1 macro Train</th>\n",
       "      <td>0.980912</td>\n",
       "      <td>0.980912</td>\n",
       "      <td>1.000000</td>\n",
       "      <td>0.971320</td>\n",
       "      <td>1.000000</td>\n",
       "      <td>0.980912</td>\n",
       "      <td>0.971320</td>\n",
       "      <td>0.971320</td>\n",
       "      <td>1.000000</td>\n",
       "    </tr>\n",
       "    <tr>\n",
       "      <th>F1 macro Test</th>\n",
       "      <td>0.933051</td>\n",
       "      <td>0.955556</td>\n",
       "      <td>0.933051</td>\n",
       "      <td>0.911296</td>\n",
       "      <td>0.933051</td>\n",
       "      <td>0.933473</td>\n",
       "      <td>0.955556</td>\n",
       "      <td>0.955556</td>\n",
       "      <td>0.933051</td>\n",
       "    </tr>\n",
       "  </tbody>\n",
       "</table>\n",
       "</div>"
      ],
      "text/plain": [
       "                 Logistic regression  Logistic regression tuned  \\\n",
       "Precision Train             0.981955                   0.981955   \n",
       "Precision Test              0.934093                   0.955556   \n",
       "Recall Train                0.980952                   0.980952   \n",
       "Recall Test                 0.933333                   0.955556   \n",
       "Accuracy Train              0.980952                   0.980952   \n",
       "Accuracy Test               0.933333                   0.955556   \n",
       "F1 macro Train              0.980912                   0.980912   \n",
       "F1 macro Test               0.933051                   0.955556   \n",
       "\n",
       "                 Decision Tree  Decision Tree tuned  Random Forest  \\\n",
       "Precision Train       1.000000             0.973626       1.000000   \n",
       "Precision Test        0.934093             0.916481       0.934093   \n",
       "Recall Train          1.000000             0.971429       1.000000   \n",
       "Recall Test           0.933333             0.911111       0.933333   \n",
       "Accuracy Train        1.000000             0.971429       1.000000   \n",
       "Accuracy Test         0.933333             0.911111       0.933333   \n",
       "F1 macro Train        1.000000             0.971320       1.000000   \n",
       "F1 macro Test         0.933051             0.911296       0.933051   \n",
       "\n",
       "                 Random Forest tuned       SVM  SVM tuned       XGB  \n",
       "Precision Train             0.981955  0.973626   0.973626  1.000000  \n",
       "Precision Test              0.934907  0.955556   0.955556  0.934093  \n",
       "Recall Train                0.980952  0.971429   0.971429  1.000000  \n",
       "Recall Test                 0.933333  0.955556   0.955556  0.933333  \n",
       "Accuracy Train              0.980952  0.971429   0.971429  1.000000  \n",
       "Accuracy Test               0.933333  0.955556   0.955556  0.933333  \n",
       "F1 macro Train              0.980912  0.971320   0.971320  1.000000  \n",
       "F1 macro Test               0.933473  0.955556   0.955556  0.933051  "
      ]
     },
     "execution_count": 111,
     "metadata": {},
     "output_type": "execute_result"
    }
   ],
   "source": [
    "score['XGB'] = xgb_score\n",
    "score"
   ]
  },
  {
   "cell_type": "markdown",
   "metadata": {},
   "source": []
  },
  {
   "cell_type": "markdown",
   "metadata": {},
   "source": [
    "### 2. Cross- Validation & Hyperparameter Tuning\n"
   ]
  },
  {
   "cell_type": "code",
   "execution_count": 112,
   "metadata": {},
   "outputs": [
    {
     "name": "stdout",
     "output_type": "stream",
     "text": [
      "Best hyperparameters:  {'n_estimators': 140, 'max_depth': 3, 'learning_rate': 0.060000000000000005}\n"
     ]
    }
   ],
   "source": [
    "# ML Model - 5 Implementation with hyperparameter optimization techniques (i.e., GridSearch CV, RandomSearch CV, Bayesian Optimization etc.)\n",
    "# Define the hyperparameter grid\n",
    "param_grid = {'learning_rate': np.arange(0.01, 0.3, 0.01),\n",
    "              'max_depth': np.arange(3, 15, 1),\n",
    "              'n_estimators': np.arange(100, 200, 10)}\n",
    "\n",
    "# Initialize the model\n",
    "xgb2 = xgb.XGBClassifier(random_state=0)\n",
    "\n",
    "# Repeated stratified kfold\n",
    "rskf = RepeatedStratifiedKFold(n_splits=3, n_repeats=3, random_state=0)\n",
    "\n",
    "# Initialize RandomizedSearchCV\n",
    "random_search = RandomizedSearchCV(xgb2, param_grid, n_iter=10, cv=rskf)\n",
    "\n",
    "# Fit the RandomizedSearchCV to the training data\n",
    "random_search.fit(x_train, y_train)\n",
    "\n",
    "# Select the best hyperparameters\n",
    "best_params = random_search.best_params_\n",
    "print(\"Best hyperparameters: \", best_params)"
   ]
  },
  {
   "cell_type": "code",
   "execution_count": 113,
   "metadata": {},
   "outputs": [],
   "source": [
    "\n",
    "# Initialize model with best parameters\n",
    "xgb_model2 = xgb.XGBClassifier(learning_rate = best_params['learning_rate'],\n",
    "                                 max_depth = best_params['max_depth'],\n",
    "                               n_estimators = best_params['n_estimators'],\n",
    "                                 random_state=0)"
   ]
  },
  {
   "cell_type": "code",
   "execution_count": 114,
   "metadata": {},
   "outputs": [
    {
     "name": "stdout",
     "output_type": "stream",
     "text": [
      "\n",
      "Confusion Matrix:\n"
     ]
    },
    {
     "data": {
      "image/png": "[encoded data removed]",
      "text/plain": [
       "<Figure size 1100x400 with 4 Axes>"
      ]
     },
     "metadata": {},
     "output_type": "display_data"
    },
    {
     "name": "stdout",
     "output_type": "stream",
     "text": [
      "\n",
      "Train Classification Report:\n",
      "|              |   precision |   recall |   f1-score |   support |\n",
      "|:-------------|------------:|---------:|-----------:|----------:|\n",
      "| 0            |           1 |        1 |          1 |        36 |\n",
      "| 1            |           1 |        1 |          1 |        33 |\n",
      "| 2            |           1 |        1 |          1 |        36 |\n",
      "| accuracy     |           1 |        1 |          1 |         1 |\n",
      "| macro avg    |           1 |        1 |          1 |       105 |\n",
      "| weighted avg |           1 |        1 |          1 |       105 |\n",
      "\n",
      "Test Classification Report:\n",
      "|              |   precision |   recall |   f1-score |   support |\n",
      "|:-------------|------------:|---------:|-----------:|----------:|\n",
      "| 0            |    1        | 1        |   1        | 14        |\n",
      "| 1            |    0.888889 | 0.941176 |   0.914286 | 17        |\n",
      "| 2            |    0.923077 | 0.857143 |   0.888889 | 14        |\n",
      "| accuracy     |    0.933333 | 0.933333 |   0.933333 |  0.933333 |\n",
      "| macro avg    |    0.937322 | 0.932773 |   0.934392 | 45        |\n",
      "| weighted avg |    0.934093 | 0.933333 |   0.933051 | 45        |\n"
     ]
    }
   ],
   "source": [
    "xgb2_score = evaluate_model(xgb_model2, x_train, x_test, y_train, y_test)"
   ]
  },
  {
   "cell_type": "code",
   "execution_count": 115,
   "metadata": {},
   "outputs": [],
   "source": [
    "score['XGB tuned'] = xgb2_score"
   ]
  },
  {
   "cell_type": "code",
   "execution_count": 116,
   "metadata": {},
   "outputs": [
    {
     "data": {
      "text/html": [
       "<div>\n",
       "<style scoped>\n",
       "    .dataframe tbody tr th:only-of-type {\n",
       "        vertical-align: middle;\n",
       "    }\n",
       "\n",
       "    .dataframe tbody tr th {\n",
       "        vertical-align: top;\n",
       "    }\n",
       "\n",
       "    .dataframe thead th {\n",
       "        text-align: right;\n",
       "    }\n",
       "</style>\n",
       "<table border=\"1\" class=\"dataframe\">\n",
       "  <thead>\n",
       "    <tr style=\"text-align: right;\">\n",
       "      <th></th>\n",
       "      <th>Logistic regression</th>\n",
       "      <th>Logistic regression tuned</th>\n",
       "      <th>Decision Tree</th>\n",
       "      <th>Decision Tree tuned</th>\n",
       "      <th>Random Forest</th>\n",
       "      <th>Random Forest tuned</th>\n",
       "      <th>SVM</th>\n",
       "      <th>SVM tuned</th>\n",
       "      <th>XGB</th>\n",
       "      <th>XGB tuned</th>\n",
       "    </tr>\n",
       "  </thead>\n",
       "  <tbody>\n",
       "    <tr>\n",
       "      <th>Precision Train</th>\n",
       "      <td>0.981955</td>\n",
       "      <td>0.981955</td>\n",
       "      <td>1.000000</td>\n",
       "      <td>0.973626</td>\n",
       "      <td>1.000000</td>\n",
       "      <td>0.981955</td>\n",
       "      <td>0.973626</td>\n",
       "      <td>0.973626</td>\n",
       "      <td>1.000000</td>\n",
       "      <td>1.000000</td>\n",
       "    </tr>\n",
       "    <tr>\n",
       "      <th>Precision Test</th>\n",
       "      <td>0.934093</td>\n",
       "      <td>0.955556</td>\n",
       "      <td>0.934093</td>\n",
       "      <td>0.916481</td>\n",
       "      <td>0.934093</td>\n",
       "      <td>0.934907</td>\n",
       "      <td>0.955556</td>\n",
       "      <td>0.955556</td>\n",
       "      <td>0.934093</td>\n",
       "      <td>0.934093</td>\n",
       "    </tr>\n",
       "    <tr>\n",
       "      <th>Recall Train</th>\n",
       "      <td>0.980952</td>\n",
       "      <td>0.980952</td>\n",
       "      <td>1.000000</td>\n",
       "      <td>0.971429</td>\n",
       "      <td>1.000000</td>\n",
       "      <td>0.980952</td>\n",
       "      <td>0.971429</td>\n",
       "      <td>0.971429</td>\n",
       "      <td>1.000000</td>\n",
       "      <td>1.000000</td>\n",
       "    </tr>\n",
       "    <tr>\n",
       "      <th>Recall Test</th>\n",
       "      <td>0.933333</td>\n",
       "      <td>0.955556</td>\n",
       "      <td>0.933333</td>\n",
       "      <td>0.911111</td>\n",
       "      <td>0.933333</td>\n",
       "      <td>0.933333</td>\n",
       "      <td>0.955556</td>\n",
       "      <td>0.955556</td>\n",
       "      <td>0.933333</td>\n",
       "      <td>0.933333</td>\n",
       "    </tr>\n",
       "    <tr>\n",
       "      <th>Accuracy Train</th>\n",
       "      <td>0.980952</td>\n",
       "      <td>0.980952</td>\n",
       "      <td>1.000000</td>\n",
       "      <td>0.971429</td>\n",
       "      <td>1.000000</td>\n",
       "      <td>0.980952</td>\n",
       "      <td>0.971429</td>\n",
       "      <td>0.971429</td>\n",
       "      <td>1.000000</td>\n",
       "      <td>1.000000</td>\n",
       "    </tr>\n",
       "    <tr>\n",
       "      <th>Accuracy Test</th>\n",
       "      <td>0.933333</td>\n",
       "      <td>0.955556</td>\n",
       "      <td>0.933333</td>\n",
       "      <td>0.911111</td>\n",
       "      <td>0.933333</td>\n",
       "      <td>0.933333</td>\n",
       "      <td>0.955556</td>\n",
       "      <td>0.955556</td>\n",
       "      <td>0.933333</td>\n",
       "      <td>0.933333</td>\n",
       "    </tr>\n",
       "    <tr>\n",
       "      <th>F1 macro Train</th>\n",
       "      <td>0.980912</td>\n",
       "      <td>0.980912</td>\n",
       "      <td>1.000000</td>\n",
       "      <td>0.971320</td>\n",
       "      <td>1.000000</td>\n",
       "      <td>0.980912</td>\n",
       "      <td>0.971320</td>\n",
       "      <td>0.971320</td>\n",
       "      <td>1.000000</td>\n",
       "      <td>1.000000</td>\n",
       "    </tr>\n",
       "    <tr>\n",
       "      <th>F1 macro Test</th>\n",
       "      <td>0.933051</td>\n",
       "      <td>0.955556</td>\n",
       "      <td>0.933051</td>\n",
       "      <td>0.911296</td>\n",
       "      <td>0.933051</td>\n",
       "      <td>0.933473</td>\n",
       "      <td>0.955556</td>\n",
       "      <td>0.955556</td>\n",
       "      <td>0.933051</td>\n",
       "      <td>0.933051</td>\n",
       "    </tr>\n",
       "  </tbody>\n",
       "</table>\n",
       "</div>"
      ],
      "text/plain": [
       "                 Logistic regression  Logistic regression tuned  \\\n",
       "Precision Train             0.981955                   0.981955   \n",
       "Precision Test              0.934093                   0.955556   \n",
       "Recall Train                0.980952                   0.980952   \n",
       "Recall Test                 0.933333                   0.955556   \n",
       "Accuracy Train              0.980952                   0.980952   \n",
       "Accuracy Test               0.933333                   0.955556   \n",
       "F1 macro Train              0.980912                   0.980912   \n",
       "F1 macro Test               0.933051                   0.955556   \n",
       "\n",
       "                 Decision Tree  Decision Tree tuned  Random Forest  \\\n",
       "Precision Train       1.000000             0.973626       1.000000   \n",
       "Precision Test        0.934093             0.916481       0.934093   \n",
       "Recall Train          1.000000             0.971429       1.000000   \n",
       "Recall Test           0.933333             0.911111       0.933333   \n",
       "Accuracy Train        1.000000             0.971429       1.000000   \n",
       "Accuracy Test         0.933333             0.911111       0.933333   \n",
       "F1 macro Train        1.000000             0.971320       1.000000   \n",
       "F1 macro Test         0.933051             0.911296       0.933051   \n",
       "\n",
       "                 Random Forest tuned       SVM  SVM tuned       XGB  XGB tuned  \n",
       "Precision Train             0.981955  0.973626   0.973626  1.000000   1.000000  \n",
       "Precision Test              0.934907  0.955556   0.955556  0.934093   0.934093  \n",
       "Recall Train                0.980952  0.971429   0.971429  1.000000   1.000000  \n",
       "Recall Test                 0.933333  0.955556   0.955556  0.933333   0.933333  \n",
       "Accuracy Train              0.980952  0.971429   0.971429  1.000000   1.000000  \n",
       "Accuracy Test               0.933333  0.955556   0.955556  0.933333   0.933333  \n",
       "F1 macro Train              0.980912  0.971320   0.971320  1.000000   1.000000  \n",
       "F1 macro Test               0.933473  0.955556   0.955556  0.933051   0.933051  "
      ]
     },
     "execution_count": 116,
     "metadata": {},
     "output_type": "execute_result"
    }
   ],
   "source": [
    "score"
   ]
  },
  {
   "cell_type": "markdown",
   "metadata": {},
   "source": []
  },
  {
   "cell_type": "markdown",
   "metadata": {},
   "source": [
    "### ML Model - 6 : Naive Bayes"
   ]
  },
  {
   "cell_type": "code",
   "execution_count": 117,
   "metadata": {},
   "outputs": [],
   "source": [
    "nb_model = GaussianNB()"
   ]
  },
  {
   "cell_type": "code",
   "execution_count": 118,
   "metadata": {},
   "outputs": [
    {
     "name": "stdout",
     "output_type": "stream",
     "text": [
      "\n",
      "Confusion Matrix:\n"
     ]
    },
    {
     "data": {
      "image/png": "[encoded data removed]",
      "text/plain": [
       "<Figure size 1100x400 with 4 Axes>"
      ]
     },
     "metadata": {},
     "output_type": "display_data"
    },
    {
     "name": "stdout",
     "output_type": "stream",
     "text": [
      "\n",
      "Train Classification Report:\n",
      "|              |   precision |   recall |   f1-score |    support |\n",
      "|:-------------|------------:|---------:|-----------:|-----------:|\n",
      "| 0            |    1        | 1        |   1        |  36        |\n",
      "| 1            |    0.96875  | 0.939394 |   0.953846 |  33        |\n",
      "| 2            |    0.945946 | 0.972222 |   0.958904 |  36        |\n",
      "| accuracy     |    0.971429 | 0.971429 |   0.971429 |   0.971429 |\n",
      "| macro avg    |    0.971565 | 0.970539 |   0.970917 | 105        |\n",
      "| weighted avg |    0.971646 | 0.971429 |   0.971404 | 105        |\n",
      "\n",
      "Test Classification Report:\n",
      "|              |   precision |   recall |   f1-score |   support |\n",
      "|:-------------|------------:|---------:|-----------:|----------:|\n",
      "| 0            |    1        | 1        |   1        | 14        |\n",
      "| 1            |    0.882353 | 0.882353 |   0.882353 | 17        |\n",
      "| 2            |    0.857143 | 0.857143 |   0.857143 | 14        |\n",
      "| accuracy     |    0.911111 | 0.911111 |   0.911111 |  0.911111 |\n",
      "| macro avg    |    0.913165 | 0.913165 |   0.913165 | 45        |\n",
      "| weighted avg |    0.911111 | 0.911111 |   0.911111 | 45        |\n"
     ]
    }
   ],
   "source": [
    "nb_score = evaluate_model(nb_model,x_train,x_test,y_train,y_test)"
   ]
  },
  {
   "cell_type": "code",
   "execution_count": 119,
   "metadata": {},
   "outputs": [
    {
     "data": {
      "text/html": [
       "<div>\n",
       "<style scoped>\n",
       "    .dataframe tbody tr th:only-of-type {\n",
       "        vertical-align: middle;\n",
       "    }\n",
       "\n",
       "    .dataframe tbody tr th {\n",
       "        vertical-align: top;\n",
       "    }\n",
       "\n",
       "    .dataframe thead th {\n",
       "        text-align: right;\n",
       "    }\n",
       "</style>\n",
       "<table border=\"1\" class=\"dataframe\">\n",
       "  <thead>\n",
       "    <tr style=\"text-align: right;\">\n",
       "      <th></th>\n",
       "      <th>Logistic regression</th>\n",
       "      <th>Logistic regression tuned</th>\n",
       "      <th>Decision Tree</th>\n",
       "      <th>Decision Tree tuned</th>\n",
       "      <th>Random Forest</th>\n",
       "      <th>Random Forest tuned</th>\n",
       "      <th>SVM</th>\n",
       "      <th>SVM tuned</th>\n",
       "      <th>XGB</th>\n",
       "      <th>XGB tuned</th>\n",
       "      <th>Naive Bayes</th>\n",
       "    </tr>\n",
       "  </thead>\n",
       "  <tbody>\n",
       "    <tr>\n",
       "      <th>Precision Train</th>\n",
       "      <td>0.981955</td>\n",
       "      <td>0.981955</td>\n",
       "      <td>1.000000</td>\n",
       "      <td>0.973626</td>\n",
       "      <td>1.000000</td>\n",
       "      <td>0.981955</td>\n",
       "      <td>0.973626</td>\n",
       "      <td>0.973626</td>\n",
       "      <td>1.000000</td>\n",
       "      <td>1.000000</td>\n",
       "      <td>0.971646</td>\n",
       "    </tr>\n",
       "    <tr>\n",
       "      <th>Precision Test</th>\n",
       "      <td>0.934093</td>\n",
       "      <td>0.955556</td>\n",
       "      <td>0.934093</td>\n",
       "      <td>0.916481</td>\n",
       "      <td>0.934093</td>\n",
       "      <td>0.934907</td>\n",
       "      <td>0.955556</td>\n",
       "      <td>0.955556</td>\n",
       "      <td>0.934093</td>\n",
       "      <td>0.934093</td>\n",
       "      <td>0.911111</td>\n",
       "    </tr>\n",
       "    <tr>\n",
       "      <th>Recall Train</th>\n",
       "      <td>0.980952</td>\n",
       "      <td>0.980952</td>\n",
       "      <td>1.000000</td>\n",
       "      <td>0.971429</td>\n",
       "      <td>1.000000</td>\n",
       "      <td>0.980952</td>\n",
       "      <td>0.971429</td>\n",
       "      <td>0.971429</td>\n",
       "      <td>1.000000</td>\n",
       "      <td>1.000000</td>\n",
       "      <td>0.971429</td>\n",
       "    </tr>\n",
       "    <tr>\n",
       "      <th>Recall Test</th>\n",
       "      <td>0.933333</td>\n",
       "      <td>0.955556</td>\n",
       "      <td>0.933333</td>\n",
       "      <td>0.911111</td>\n",
       "      <td>0.933333</td>\n",
       "      <td>0.933333</td>\n",
       "      <td>0.955556</td>\n",
       "      <td>0.955556</td>\n",
       "      <td>0.933333</td>\n",
       "      <td>0.933333</td>\n",
       "      <td>0.911111</td>\n",
       "    </tr>\n",
       "    <tr>\n",
       "      <th>Accuracy Train</th>\n",
       "      <td>0.980952</td>\n",
       "      <td>0.980952</td>\n",
       "      <td>1.000000</td>\n",
       "      <td>0.971429</td>\n",
       "      <td>1.000000</td>\n",
       "      <td>0.980952</td>\n",
       "      <td>0.971429</td>\n",
       "      <td>0.971429</td>\n",
       "      <td>1.000000</td>\n",
       "      <td>1.000000</td>\n",
       "      <td>0.971429</td>\n",
       "    </tr>\n",
       "    <tr>\n",
       "      <th>Accuracy Test</th>\n",
       "      <td>0.933333</td>\n",
       "      <td>0.955556</td>\n",
       "      <td>0.933333</td>\n",
       "      <td>0.911111</td>\n",
       "      <td>0.933333</td>\n",
       "      <td>0.933333</td>\n",
       "      <td>0.955556</td>\n",
       "      <td>0.955556</td>\n",
       "      <td>0.933333</td>\n",
       "      <td>0.933333</td>\n",
       "      <td>0.911111</td>\n",
       "    </tr>\n",
       "    <tr>\n",
       "      <th>F1 macro Train</th>\n",
       "      <td>0.980912</td>\n",
       "      <td>0.980912</td>\n",
       "      <td>1.000000</td>\n",
       "      <td>0.971320</td>\n",
       "      <td>1.000000</td>\n",
       "      <td>0.980912</td>\n",
       "      <td>0.971320</td>\n",
       "      <td>0.971320</td>\n",
       "      <td>1.000000</td>\n",
       "      <td>1.000000</td>\n",
       "      <td>0.971404</td>\n",
       "    </tr>\n",
       "    <tr>\n",
       "      <th>F1 macro Test</th>\n",
       "      <td>0.933051</td>\n",
       "      <td>0.955556</td>\n",
       "      <td>0.933051</td>\n",
       "      <td>0.911296</td>\n",
       "      <td>0.933051</td>\n",
       "      <td>0.933473</td>\n",
       "      <td>0.955556</td>\n",
       "      <td>0.955556</td>\n",
       "      <td>0.933051</td>\n",
       "      <td>0.933051</td>\n",
       "      <td>0.911111</td>\n",
       "    </tr>\n",
       "  </tbody>\n",
       "</table>\n",
       "</div>"
      ],
      "text/plain": [
       "                 Logistic regression  Logistic regression tuned  \\\n",
       "Precision Train             0.981955                   0.981955   \n",
       "Precision Test              0.934093                   0.955556   \n",
       "Recall Train                0.980952                   0.980952   \n",
       "Recall Test                 0.933333                   0.955556   \n",
       "Accuracy Train              0.980952                   0.980952   \n",
       "Accuracy Test               0.933333                   0.955556   \n",
       "F1 macro Train              0.980912                   0.980912   \n",
       "F1 macro Test               0.933051                   0.955556   \n",
       "\n",
       "                 Decision Tree  Decision Tree tuned  Random Forest  \\\n",
       "Precision Train       1.000000             0.973626       1.000000   \n",
       "Precision Test        0.934093             0.916481       0.934093   \n",
       "Recall Train          1.000000             0.971429       1.000000   \n",
       "Recall Test           0.933333             0.911111       0.933333   \n",
       "Accuracy Train        1.000000             0.971429       1.000000   \n",
       "Accuracy Test         0.933333             0.911111       0.933333   \n",
       "F1 macro Train        1.000000             0.971320       1.000000   \n",
       "F1 macro Test         0.933051             0.911296       0.933051   \n",
       "\n",
       "                 Random Forest tuned       SVM  SVM tuned       XGB  \\\n",
       "Precision Train             0.981955  0.973626   0.973626  1.000000   \n",
       "Precision Test              0.934907  0.955556   0.955556  0.934093   \n",
       "Recall Train                0.980952  0.971429   0.971429  1.000000   \n",
       "Recall Test                 0.933333  0.955556   0.955556  0.933333   \n",
       "Accuracy Train              0.980952  0.971429   0.971429  1.000000   \n",
       "Accuracy Test               0.933333  0.955556   0.955556  0.933333   \n",
       "F1 macro Train              0.980912  0.971320   0.971320  1.000000   \n",
       "F1 macro Test               0.933473  0.955556   0.955556  0.933051   \n",
       "\n",
       "                 XGB tuned  Naive Bayes  \n",
       "Precision Train   1.000000     0.971646  \n",
       "Precision Test    0.934093     0.911111  \n",
       "Recall Train      1.000000     0.971429  \n",
       "Recall Test       0.933333     0.911111  \n",
       "Accuracy Train    1.000000     0.971429  \n",
       "Accuracy Test     0.933333     0.911111  \n",
       "F1 macro Train    1.000000     0.971404  \n",
       "F1 macro Test     0.933051     0.911111  "
      ]
     },
     "execution_count": 119,
     "metadata": {},
     "output_type": "execute_result"
    }
   ],
   "source": [
    "score['Naive Bayes'] = nb_score\n",
    "score"
   ]
  },
  {
   "cell_type": "markdown",
   "metadata": {},
   "source": []
  },
  {
   "cell_type": "markdown",
   "metadata": {},
   "source": [
    "### 2. Cross- Validation & Hyperparameter Tuning\n"
   ]
  },
  {
   "cell_type": "code",
   "execution_count": 120,
   "metadata": {},
   "outputs": [
    {
     "name": "stdout",
     "output_type": "stream",
     "text": [
      "Best hyperparameters:  {'var_smoothing': 0.01}\n"
     ]
    }
   ],
   "source": [
    "# ML Model - 6 Implementation with hyperparameter optimization techniques (i.e., GridSearch CV, RandomSearch CV, Bayesian Optimization etc.)\n",
    "# Define the hyperparameter grid\n",
    "param_grid = {'var_smoothing': np.logspace(0,-9, num=100)}\n",
    "\n",
    "# Initialize the model\n",
    "naive = GaussianNB()\n",
    "\n",
    "# repeated stratified kfold\n",
    "rskf = RepeatedStratifiedKFold(n_splits=4, n_repeats=4, random_state=0)\n",
    "\n",
    "# Initialize GridSearchCV\n",
    "GridSearch = GridSearchCV(naive, param_grid, cv=rskf, n_jobs=-1)\n",
    "\n",
    "# Fit the GridSearchCV to the training data\n",
    "GridSearch.fit(x_train, y_train)\n",
    "\n",
    "# Select the best hyperparameters\n",
    "best_params = GridSearch.best_params_\n",
    "print(\"Best hyperparameters: \", best_params)"
   ]
  },
  {
   "cell_type": "code",
   "execution_count": 121,
   "metadata": {},
   "outputs": [],
   "source": [
    "nb_model2 = GaussianNB(var_smoothing = best_params['var_smoothing'])\n"
   ]
  },
  {
   "cell_type": "code",
   "execution_count": 122,
   "metadata": {},
   "outputs": [
    {
     "name": "stdout",
     "output_type": "stream",
     "text": [
      "\n",
      "Confusion Matrix:\n"
     ]
    },
    {
     "data": {
      "image/png": "[encoded data removed]",
      "text/plain": [
       "<Figure size 1100x400 with 4 Axes>"
      ]
     },
     "metadata": {},
     "output_type": "display_data"
    },
    {
     "name": "stdout",
     "output_type": "stream",
     "text": [
      "\n",
      "Train Classification Report:\n",
      "|              |   precision |   recall |   f1-score |    support |\n",
      "|:-------------|------------:|---------:|-----------:|-----------:|\n",
      "| 0            |    1        | 1        |   1        |  36        |\n",
      "| 1            |    1        | 0.909091 |   0.952381 |  33        |\n",
      "| 2            |    0.923077 | 1        |   0.96     |  36        |\n",
      "| accuracy     |    0.971429 | 0.971429 |   0.971429 |   0.971429 |\n",
      "| macro avg    |    0.974359 | 0.969697 |   0.970794 | 105        |\n",
      "| weighted avg |    0.973626 | 0.971429 |   0.97132  | 105        |\n",
      "\n",
      "Test Classification Report:\n",
      "|              |   precision |   recall |   f1-score |   support |\n",
      "|:-------------|------------:|---------:|-----------:|----------:|\n",
      "| 0            |    1        | 1        |   1        | 14        |\n",
      "| 1            |    0.888889 | 0.941176 |   0.914286 | 17        |\n",
      "| 2            |    0.923077 | 0.857143 |   0.888889 | 14        |\n",
      "| accuracy     |    0.933333 | 0.933333 |   0.933333 |  0.933333 |\n",
      "| macro avg    |    0.937322 | 0.932773 |   0.934392 | 45        |\n",
      "| weighted avg |    0.934093 | 0.933333 |   0.933051 | 45        |\n"
     ]
    }
   ],
   "source": [
    "nb2_score = evaluate_model(nb_model2, x_train, x_test, y_train, y_test)\n"
   ]
  },
  {
   "cell_type": "code",
   "execution_count": 123,
   "metadata": {},
   "outputs": [
    {
     "data": {
      "text/html": [
       "<div>\n",
       "<style scoped>\n",
       "    .dataframe tbody tr th:only-of-type {\n",
       "        vertical-align: middle;\n",
       "    }\n",
       "\n",
       "    .dataframe tbody tr th {\n",
       "        vertical-align: top;\n",
       "    }\n",
       "\n",
       "    .dataframe thead th {\n",
       "        text-align: right;\n",
       "    }\n",
       "</style>\n",
       "<table border=\"1\" class=\"dataframe\">\n",
       "  <thead>\n",
       "    <tr style=\"text-align: right;\">\n",
       "      <th></th>\n",
       "      <th>Logistic regression</th>\n",
       "      <th>Logistic regression tuned</th>\n",
       "      <th>Decision Tree</th>\n",
       "      <th>Decision Tree tuned</th>\n",
       "      <th>Random Forest</th>\n",
       "      <th>Random Forest tuned</th>\n",
       "      <th>SVM</th>\n",
       "      <th>SVM tuned</th>\n",
       "      <th>XGB</th>\n",
       "      <th>XGB tuned</th>\n",
       "      <th>Naive Bayes</th>\n",
       "      <th>Naive Bayes tuned</th>\n",
       "    </tr>\n",
       "  </thead>\n",
       "  <tbody>\n",
       "    <tr>\n",
       "      <th>Precision Train</th>\n",
       "      <td>0.981955</td>\n",
       "      <td>0.981955</td>\n",
       "      <td>1.000000</td>\n",
       "      <td>0.973626</td>\n",
       "      <td>1.000000</td>\n",
       "      <td>0.981955</td>\n",
       "      <td>0.973626</td>\n",
       "      <td>0.973626</td>\n",
       "      <td>1.000000</td>\n",
       "      <td>1.000000</td>\n",
       "      <td>0.971646</td>\n",
       "      <td>0.973626</td>\n",
       "    </tr>\n",
       "    <tr>\n",
       "      <th>Precision Test</th>\n",
       "      <td>0.934093</td>\n",
       "      <td>0.955556</td>\n",
       "      <td>0.934093</td>\n",
       "      <td>0.916481</td>\n",
       "      <td>0.934093</td>\n",
       "      <td>0.934907</td>\n",
       "      <td>0.955556</td>\n",
       "      <td>0.955556</td>\n",
       "      <td>0.934093</td>\n",
       "      <td>0.934093</td>\n",
       "      <td>0.911111</td>\n",
       "      <td>0.934093</td>\n",
       "    </tr>\n",
       "    <tr>\n",
       "      <th>Recall Train</th>\n",
       "      <td>0.980952</td>\n",
       "      <td>0.980952</td>\n",
       "      <td>1.000000</td>\n",
       "      <td>0.971429</td>\n",
       "      <td>1.000000</td>\n",
       "      <td>0.980952</td>\n",
       "      <td>0.971429</td>\n",
       "      <td>0.971429</td>\n",
       "      <td>1.000000</td>\n",
       "      <td>1.000000</td>\n",
       "      <td>0.971429</td>\n",
       "      <td>0.971429</td>\n",
       "    </tr>\n",
       "    <tr>\n",
       "      <th>Recall Test</th>\n",
       "      <td>0.933333</td>\n",
       "      <td>0.955556</td>\n",
       "      <td>0.933333</td>\n",
       "      <td>0.911111</td>\n",
       "      <td>0.933333</td>\n",
       "      <td>0.933333</td>\n",
       "      <td>0.955556</td>\n",
       "      <td>0.955556</td>\n",
       "      <td>0.933333</td>\n",
       "      <td>0.933333</td>\n",
       "      <td>0.911111</td>\n",
       "      <td>0.933333</td>\n",
       "    </tr>\n",
       "    <tr>\n",
       "      <th>Accuracy Train</th>\n",
       "      <td>0.980952</td>\n",
       "      <td>0.980952</td>\n",
       "      <td>1.000000</td>\n",
       "      <td>0.971429</td>\n",
       "      <td>1.000000</td>\n",
       "      <td>0.980952</td>\n",
       "      <td>0.971429</td>\n",
       "      <td>0.971429</td>\n",
       "      <td>1.000000</td>\n",
       "      <td>1.000000</td>\n",
       "      <td>0.971429</td>\n",
       "      <td>0.971429</td>\n",
       "    </tr>\n",
       "    <tr>\n",
       "      <th>Accuracy Test</th>\n",
       "      <td>0.933333</td>\n",
       "      <td>0.955556</td>\n",
       "      <td>0.933333</td>\n",
       "      <td>0.911111</td>\n",
       "      <td>0.933333</td>\n",
       "      <td>0.933333</td>\n",
       "      <td>0.955556</td>\n",
       "      <td>0.955556</td>\n",
       "      <td>0.933333</td>\n",
       "      <td>0.933333</td>\n",
       "      <td>0.911111</td>\n",
       "      <td>0.933333</td>\n",
       "    </tr>\n",
       "    <tr>\n",
       "      <th>F1 macro Train</th>\n",
       "      <td>0.980912</td>\n",
       "      <td>0.980912</td>\n",
       "      <td>1.000000</td>\n",
       "      <td>0.971320</td>\n",
       "      <td>1.000000</td>\n",
       "      <td>0.980912</td>\n",
       "      <td>0.971320</td>\n",
       "      <td>0.971320</td>\n",
       "      <td>1.000000</td>\n",
       "      <td>1.000000</td>\n",
       "      <td>0.971404</td>\n",
       "      <td>0.971320</td>\n",
       "    </tr>\n",
       "    <tr>\n",
       "      <th>F1 macro Test</th>\n",
       "      <td>0.933051</td>\n",
       "      <td>0.955556</td>\n",
       "      <td>0.933051</td>\n",
       "      <td>0.911296</td>\n",
       "      <td>0.933051</td>\n",
       "      <td>0.933473</td>\n",
       "      <td>0.955556</td>\n",
       "      <td>0.955556</td>\n",
       "      <td>0.933051</td>\n",
       "      <td>0.933051</td>\n",
       "      <td>0.911111</td>\n",
       "      <td>0.933051</td>\n",
       "    </tr>\n",
       "  </tbody>\n",
       "</table>\n",
       "</div>"
      ],
      "text/plain": [
       "                 Logistic regression  Logistic regression tuned  \\\n",
       "Precision Train             0.981955                   0.981955   \n",
       "Precision Test              0.934093                   0.955556   \n",
       "Recall Train                0.980952                   0.980952   \n",
       "Recall Test                 0.933333                   0.955556   \n",
       "Accuracy Train              0.980952                   0.980952   \n",
       "Accuracy Test               0.933333                   0.955556   \n",
       "F1 macro Train              0.980912                   0.980912   \n",
       "F1 macro Test               0.933051                   0.955556   \n",
       "\n",
       "                 Decision Tree  Decision Tree tuned  Random Forest  \\\n",
       "Precision Train       1.000000             0.973626       1.000000   \n",
       "Precision Test        0.934093             0.916481       0.934093   \n",
       "Recall Train          1.000000             0.971429       1.000000   \n",
       "Recall Test           0.933333             0.911111       0.933333   \n",
       "Accuracy Train        1.000000             0.971429       1.000000   \n",
       "Accuracy Test         0.933333             0.911111       0.933333   \n",
       "F1 macro Train        1.000000             0.971320       1.000000   \n",
       "F1 macro Test         0.933051             0.911296       0.933051   \n",
       "\n",
       "                 Random Forest tuned       SVM  SVM tuned       XGB  \\\n",
       "Precision Train             0.981955  0.973626   0.973626  1.000000   \n",
       "Precision Test              0.934907  0.955556   0.955556  0.934093   \n",
       "Recall Train                0.980952  0.971429   0.971429  1.000000   \n",
       "Recall Test                 0.933333  0.955556   0.955556  0.933333   \n",
       "Accuracy Train              0.980952  0.971429   0.971429  1.000000   \n",
       "Accuracy Test               0.933333  0.955556   0.955556  0.933333   \n",
       "F1 macro Train              0.980912  0.971320   0.971320  1.000000   \n",
       "F1 macro Test               0.933473  0.955556   0.955556  0.933051   \n",
       "\n",
       "                 XGB tuned  Naive Bayes  Naive Bayes tuned  \n",
       "Precision Train   1.000000     0.971646           0.973626  \n",
       "Precision Test    0.934093     0.911111           0.934093  \n",
       "Recall Train      1.000000     0.971429           0.971429  \n",
       "Recall Test       0.933333     0.911111           0.933333  \n",
       "Accuracy Train    1.000000     0.971429           0.971429  \n",
       "Accuracy Test     0.933333     0.911111           0.933333  \n",
       "F1 macro Train    1.000000     0.971404           0.971320  \n",
       "F1 macro Test     0.933051     0.911111           0.933051  "
      ]
     },
     "execution_count": 123,
     "metadata": {},
     "output_type": "execute_result"
    }
   ],
   "source": [
    "score['Naive Bayes tuned']= nb2_score\n",
    "score"
   ]
  },
  {
   "cell_type": "markdown",
   "metadata": {},
   "source": []
  },
  {
   "cell_type": "markdown",
   "metadata": {},
   "source": [
    "### ML Model - 7 : Neural Network\n"
   ]
  },
  {
   "cell_type": "code",
   "execution_count": 124,
   "metadata": {},
   "outputs": [],
   "source": [
    "nn_model = MLPClassifier(random_state=0)"
   ]
  },
  {
   "cell_type": "code",
   "execution_count": 127,
   "metadata": {},
   "outputs": [
    {
     "name": "stdout",
     "output_type": "stream",
     "text": [
      "\n",
      "Confusion Matrix:\n"
     ]
    },
    {
     "data": {
      "image/png": "[encoded data removed]",
      "text/plain": [
       "<Figure size 1100x400 with 4 Axes>"
      ]
     },
     "metadata": {},
     "output_type": "display_data"
    },
    {
     "name": "stdout",
     "output_type": "stream",
     "text": [
      "\n",
      "Train Classification Report:\n",
      "|              |   precision |   recall |   f1-score |    support |\n",
      "|:-------------|------------:|---------:|-----------:|-----------:|\n",
      "| 0            |    1        | 1        |   1        |  36        |\n",
      "| 1            |    1        | 0.909091 |   0.952381 |  33        |\n",
      "| 2            |    0.923077 | 1        |   0.96     |  36        |\n",
      "| accuracy     |    0.971429 | 0.971429 |   0.971429 |   0.971429 |\n",
      "| macro avg    |    0.974359 | 0.969697 |   0.970794 | 105        |\n",
      "| weighted avg |    0.973626 | 0.971429 |   0.97132  | 105        |\n",
      "\n",
      "Test Classification Report:\n",
      "|              |   precision |   recall |   f1-score |   support |\n",
      "|:-------------|------------:|---------:|-----------:|----------:|\n",
      "| 0            |    1        | 1        |   1        | 14        |\n",
      "| 1            |    1        | 0.882353 |   0.9375   | 17        |\n",
      "| 2            |    0.875    | 1        |   0.933333 | 14        |\n",
      "| accuracy     |    0.955556 | 0.955556 |   0.955556 |  0.955556 |\n",
      "| macro avg    |    0.958333 | 0.960784 |   0.956944 | 45        |\n",
      "| weighted avg |    0.961111 | 0.955556 |   0.955648 | 45        |\n"
     ]
    }
   ],
   "source": [
    "neural_score = evaluate_model(nn_model,x_train,x_test,y_train,y_test)"
   ]
  },
  {
   "cell_type": "code",
   "execution_count": 128,
   "metadata": {},
   "outputs": [
    {
     "data": {
      "text/html": [
       "<div>\n",
       "<style scoped>\n",
       "    .dataframe tbody tr th:only-of-type {\n",
       "        vertical-align: middle;\n",
       "    }\n",
       "\n",
       "    .dataframe tbody tr th {\n",
       "        vertical-align: top;\n",
       "    }\n",
       "\n",
       "    .dataframe thead th {\n",
       "        text-align: right;\n",
       "    }\n",
       "</style>\n",
       "<table border=\"1\" class=\"dataframe\">\n",
       "  <thead>\n",
       "    <tr style=\"text-align: right;\">\n",
       "      <th></th>\n",
       "      <th>Logistic regression</th>\n",
       "      <th>Logistic regression tuned</th>\n",
       "      <th>Decision Tree</th>\n",
       "      <th>Decision Tree tuned</th>\n",
       "      <th>Random Forest</th>\n",
       "      <th>Random Forest tuned</th>\n",
       "      <th>SVM</th>\n",
       "      <th>SVM tuned</th>\n",
       "      <th>XGB</th>\n",
       "      <th>XGB tuned</th>\n",
       "      <th>Naive Bayes</th>\n",
       "      <th>Naive Bayes tuned</th>\n",
       "      <th>Neural Network</th>\n",
       "    </tr>\n",
       "  </thead>\n",
       "  <tbody>\n",
       "    <tr>\n",
       "      <th>Precision Train</th>\n",
       "      <td>0.981955</td>\n",
       "      <td>0.981955</td>\n",
       "      <td>1.000000</td>\n",
       "      <td>0.973626</td>\n",
       "      <td>1.000000</td>\n",
       "      <td>0.981955</td>\n",
       "      <td>0.973626</td>\n",
       "      <td>0.973626</td>\n",
       "      <td>1.000000</td>\n",
       "      <td>1.000000</td>\n",
       "      <td>0.971646</td>\n",
       "      <td>0.973626</td>\n",
       "      <td>0.973626</td>\n",
       "    </tr>\n",
       "    <tr>\n",
       "      <th>Precision Test</th>\n",
       "      <td>0.934093</td>\n",
       "      <td>0.955556</td>\n",
       "      <td>0.934093</td>\n",
       "      <td>0.916481</td>\n",
       "      <td>0.934093</td>\n",
       "      <td>0.934907</td>\n",
       "      <td>0.955556</td>\n",
       "      <td>0.955556</td>\n",
       "      <td>0.934093</td>\n",
       "      <td>0.934093</td>\n",
       "      <td>0.911111</td>\n",
       "      <td>0.934093</td>\n",
       "      <td>0.961111</td>\n",
       "    </tr>\n",
       "    <tr>\n",
       "      <th>Recall Train</th>\n",
       "      <td>0.980952</td>\n",
       "      <td>0.980952</td>\n",
       "      <td>1.000000</td>\n",
       "      <td>0.971429</td>\n",
       "      <td>1.000000</td>\n",
       "      <td>0.980952</td>\n",
       "      <td>0.971429</td>\n",
       "      <td>0.971429</td>\n",
       "      <td>1.000000</td>\n",
       "      <td>1.000000</td>\n",
       "      <td>0.971429</td>\n",
       "      <td>0.971429</td>\n",
       "      <td>0.971429</td>\n",
       "    </tr>\n",
       "    <tr>\n",
       "      <th>Recall Test</th>\n",
       "      <td>0.933333</td>\n",
       "      <td>0.955556</td>\n",
       "      <td>0.933333</td>\n",
       "      <td>0.911111</td>\n",
       "      <td>0.933333</td>\n",
       "      <td>0.933333</td>\n",
       "      <td>0.955556</td>\n",
       "      <td>0.955556</td>\n",
       "      <td>0.933333</td>\n",
       "      <td>0.933333</td>\n",
       "      <td>0.911111</td>\n",
       "      <td>0.933333</td>\n",
       "      <td>0.955556</td>\n",
       "    </tr>\n",
       "    <tr>\n",
       "      <th>Accuracy Train</th>\n",
       "      <td>0.980952</td>\n",
       "      <td>0.980952</td>\n",
       "      <td>1.000000</td>\n",
       "      <td>0.971429</td>\n",
       "      <td>1.000000</td>\n",
       "      <td>0.980952</td>\n",
       "      <td>0.971429</td>\n",
       "      <td>0.971429</td>\n",
       "      <td>1.000000</td>\n",
       "      <td>1.000000</td>\n",
       "      <td>0.971429</td>\n",
       "      <td>0.971429</td>\n",
       "      <td>0.971429</td>\n",
       "    </tr>\n",
       "    <tr>\n",
       "      <th>Accuracy Test</th>\n",
       "      <td>0.933333</td>\n",
       "      <td>0.955556</td>\n",
       "      <td>0.933333</td>\n",
       "      <td>0.911111</td>\n",
       "      <td>0.933333</td>\n",
       "      <td>0.933333</td>\n",
       "      <td>0.955556</td>\n",
       "      <td>0.955556</td>\n",
       "      <td>0.933333</td>\n",
       "      <td>0.933333</td>\n",
       "      <td>0.911111</td>\n",
       "      <td>0.933333</td>\n",
       "      <td>0.955556</td>\n",
       "    </tr>\n",
       "    <tr>\n",
       "      <th>F1 macro Train</th>\n",
       "      <td>0.980912</td>\n",
       "      <td>0.980912</td>\n",
       "      <td>1.000000</td>\n",
       "      <td>0.971320</td>\n",
       "      <td>1.000000</td>\n",
       "      <td>0.980912</td>\n",
       "      <td>0.971320</td>\n",
       "      <td>0.971320</td>\n",
       "      <td>1.000000</td>\n",
       "      <td>1.000000</td>\n",
       "      <td>0.971404</td>\n",
       "      <td>0.971320</td>\n",
       "      <td>0.971320</td>\n",
       "    </tr>\n",
       "    <tr>\n",
       "      <th>F1 macro Test</th>\n",
       "      <td>0.933051</td>\n",
       "      <td>0.955556</td>\n",
       "      <td>0.933051</td>\n",
       "      <td>0.911296</td>\n",
       "      <td>0.933051</td>\n",
       "      <td>0.933473</td>\n",
       "      <td>0.955556</td>\n",
       "      <td>0.955556</td>\n",
       "      <td>0.933051</td>\n",
       "      <td>0.933051</td>\n",
       "      <td>0.911111</td>\n",
       "      <td>0.933051</td>\n",
       "      <td>0.955648</td>\n",
       "    </tr>\n",
       "  </tbody>\n",
       "</table>\n",
       "</div>"
      ],
      "text/plain": [
       "                 Logistic regression  Logistic regression tuned  \\\n",
       "Precision Train             0.981955                   0.981955   \n",
       "Precision Test              0.934093                   0.955556   \n",
       "Recall Train                0.980952                   0.980952   \n",
       "Recall Test                 0.933333                   0.955556   \n",
       "Accuracy Train              0.980952                   0.980952   \n",
       "Accuracy Test               0.933333                   0.955556   \n",
       "F1 macro Train              0.980912                   0.980912   \n",
       "F1 macro Test               0.933051                   0.955556   \n",
       "\n",
       "                 Decision Tree  Decision Tree tuned  Random Forest  \\\n",
       "Precision Train       1.000000             0.973626       1.000000   \n",
       "Precision Test        0.934093             0.916481       0.934093   \n",
       "Recall Train          1.000000             0.971429       1.000000   \n",
       "Recall Test           0.933333             0.911111       0.933333   \n",
       "Accuracy Train        1.000000             0.971429       1.000000   \n",
       "Accuracy Test         0.933333             0.911111       0.933333   \n",
       "F1 macro Train        1.000000             0.971320       1.000000   \n",
       "F1 macro Test         0.933051             0.911296       0.933051   \n",
       "\n",
       "                 Random Forest tuned       SVM  SVM tuned       XGB  \\\n",
       "Precision Train             0.981955  0.973626   0.973626  1.000000   \n",
       "Precision Test              0.934907  0.955556   0.955556  0.934093   \n",
       "Recall Train                0.980952  0.971429   0.971429  1.000000   \n",
       "Recall Test                 0.933333  0.955556   0.955556  0.933333   \n",
       "Accuracy Train              0.980952  0.971429   0.971429  1.000000   \n",
       "Accuracy Test               0.933333  0.955556   0.955556  0.933333   \n",
       "F1 macro Train              0.980912  0.971320   0.971320  1.000000   \n",
       "F1 macro Test               0.933473  0.955556   0.955556  0.933051   \n",
       "\n",
       "                 XGB tuned  Naive Bayes  Naive Bayes tuned  Neural Network  \n",
       "Precision Train   1.000000     0.971646           0.973626        0.973626  \n",
       "Precision Test    0.934093     0.911111           0.934093        0.961111  \n",
       "Recall Train      1.000000     0.971429           0.971429        0.971429  \n",
       "Recall Test       0.933333     0.911111           0.933333        0.955556  \n",
       "Accuracy Train    1.000000     0.971429           0.971429        0.971429  \n",
       "Accuracy Test     0.933333     0.911111           0.933333        0.955556  \n",
       "F1 macro Train    1.000000     0.971404           0.971320        0.971320  \n",
       "F1 macro Test     0.933051     0.911111           0.933051        0.955648  "
      ]
     },
     "execution_count": 128,
     "metadata": {},
     "output_type": "execute_result"
    }
   ],
   "source": [
    "\n",
    "# Updated Evaluation metric Score Chart\n",
    "score['Neural Network'] = neural_score\n",
    "score"
   ]
  },
  {
   "cell_type": "markdown",
   "metadata": {},
   "source": [
    "### 2. Cross- Validation & Hyperparameter Tuning"
   ]
  },
  {
   "cell_type": "code",
   "execution_count": 129,
   "metadata": {},
   "outputs": [
    {
     "name": "stdout",
     "output_type": "stream",
     "text": [
      "Best hyperparameters:  {'hidden_layer_sizes': 60, 'alpha': 0.004900000000000001}\n"
     ]
    }
   ],
   "source": [
    "# ML Model - 7 Implementation with hyperparameter optimization techniques (i.e., GridSearch CV, RandomSearch CV, Bayesian Optimization etc.)\n",
    "# Define the hyperparameter grid\n",
    "param_grid = {'hidden_layer_sizes': np.arange(10, 100, 10),\n",
    "              'alpha': np.arange(0.0001, 0.01, 0.0001)}\n",
    "\n",
    "# Initialize the model\n",
    "neural = MLPClassifier(random_state=0)\n",
    "\n",
    "# Repeated stratified kfold\n",
    "rskf = RepeatedStratifiedKFold(n_splits=3, n_repeats=3, random_state=0)\n",
    "\n",
    "# Initialize RandomizedSearchCV\n",
    "random_search = RandomizedSearchCV(neural, param_grid, n_iter=10, cv=rskf, n_jobs=-1)\n",
    "\n",
    "# Fit the RandomizedSearchCV to the training data\n",
    "random_search.fit(x_train, y_train)\n",
    "\n",
    "# Select the best hyperparameters\n",
    "best_params = random_search.best_params_\n",
    "print(\"Best hyperparameters: \", best_params)"
   ]
  },
  {
   "cell_type": "code",
   "execution_count": 130,
   "metadata": {},
   "outputs": [],
   "source": [
    "# Initiate model with best parameters\n",
    "nn_model2 = MLPClassifier(hidden_layer_sizes = best_params['hidden_layer_sizes'],\n",
    "                        alpha = best_params['alpha'],\n",
    "                        random_state = 0)"
   ]
  },
  {
   "cell_type": "code",
   "execution_count": 131,
   "metadata": {},
   "outputs": [
    {
     "name": "stdout",
     "output_type": "stream",
     "text": [
      "\n",
      "Confusion Matrix:\n"
     ]
    },
    {
     "data": {
      "image/png": "[encoded data removed]",
      "text/plain": [
       "<Figure size 1100x400 with 4 Axes>"
      ]
     },
     "metadata": {},
     "output_type": "display_data"
    },
    {
     "name": "stdout",
     "output_type": "stream",
     "text": [
      "\n",
      "Train Classification Report:\n",
      "|              |   precision |   recall |   f1-score |    support |\n",
      "|:-------------|------------:|---------:|-----------:|-----------:|\n",
      "| 0            |    1        | 1        |   1        |  36        |\n",
      "| 1            |    1        | 0.909091 |   0.952381 |  33        |\n",
      "| 2            |    0.923077 | 1        |   0.96     |  36        |\n",
      "| accuracy     |    0.971429 | 0.971429 |   0.971429 |   0.971429 |\n",
      "| macro avg    |    0.974359 | 0.969697 |   0.970794 | 105        |\n",
      "| weighted avg |    0.973626 | 0.971429 |   0.97132  | 105        |\n",
      "\n",
      "Test Classification Report:\n",
      "|              |   precision |   recall |   f1-score |   support |\n",
      "|:-------------|------------:|---------:|-----------:|----------:|\n",
      "| 0            |    1        | 1        |   1        | 14        |\n",
      "| 1            |    1        | 0.941176 |   0.969697 | 17        |\n",
      "| 2            |    0.933333 | 1        |   0.965517 | 14        |\n",
      "| accuracy     |    0.977778 | 0.977778 |   0.977778 |  0.977778 |\n",
      "| macro avg    |    0.977778 | 0.980392 |   0.978405 | 45        |\n",
      "| weighted avg |    0.979259 | 0.977778 |   0.977824 | 45        |\n"
     ]
    }
   ],
   "source": [
    "\n",
    "# Visualizing evaluation Metric Score chart\n",
    "neural2_score = evaluate_model(nn_model2, x_train, x_test, y_train, y_test)"
   ]
  },
  {
   "cell_type": "code",
   "execution_count": 132,
   "metadata": {},
   "outputs": [],
   "source": [
    "score['Neural Network tuned']= neural2_score"
   ]
  },
  {
   "cell_type": "code",
   "execution_count": 133,
   "metadata": {},
   "outputs": [
    {
     "data": {
      "text/html": [
       "<div>\n",
       "<style scoped>\n",
       "    .dataframe tbody tr th:only-of-type {\n",
       "        vertical-align: middle;\n",
       "    }\n",
       "\n",
       "    .dataframe tbody tr th {\n",
       "        vertical-align: top;\n",
       "    }\n",
       "\n",
       "    .dataframe thead th {\n",
       "        text-align: right;\n",
       "    }\n",
       "</style>\n",
       "<table border=\"1\" class=\"dataframe\">\n",
       "  <thead>\n",
       "    <tr style=\"text-align: right;\">\n",
       "      <th></th>\n",
       "      <th>Logistic regression</th>\n",
       "      <th>Logistic regression tuned</th>\n",
       "      <th>Decision Tree</th>\n",
       "      <th>Decision Tree tuned</th>\n",
       "      <th>Random Forest</th>\n",
       "      <th>Random Forest tuned</th>\n",
       "      <th>SVM</th>\n",
       "      <th>SVM tuned</th>\n",
       "      <th>XGB</th>\n",
       "      <th>XGB tuned</th>\n",
       "      <th>Naive Bayes</th>\n",
       "      <th>Naive Bayes tuned</th>\n",
       "      <th>Neural Network</th>\n",
       "      <th>Neural Network tuned</th>\n",
       "    </tr>\n",
       "  </thead>\n",
       "  <tbody>\n",
       "    <tr>\n",
       "      <th>Precision Train</th>\n",
       "      <td>0.981955</td>\n",
       "      <td>0.981955</td>\n",
       "      <td>1.000000</td>\n",
       "      <td>0.973626</td>\n",
       "      <td>1.000000</td>\n",
       "      <td>0.981955</td>\n",
       "      <td>0.973626</td>\n",
       "      <td>0.973626</td>\n",
       "      <td>1.000000</td>\n",
       "      <td>1.000000</td>\n",
       "      <td>0.971646</td>\n",
       "      <td>0.973626</td>\n",
       "      <td>0.973626</td>\n",
       "      <td>0.973626</td>\n",
       "    </tr>\n",
       "    <tr>\n",
       "      <th>Precision Test</th>\n",
       "      <td>0.934093</td>\n",
       "      <td>0.955556</td>\n",
       "      <td>0.934093</td>\n",
       "      <td>0.916481</td>\n",
       "      <td>0.934093</td>\n",
       "      <td>0.934907</td>\n",
       "      <td>0.955556</td>\n",
       "      <td>0.955556</td>\n",
       "      <td>0.934093</td>\n",
       "      <td>0.934093</td>\n",
       "      <td>0.911111</td>\n",
       "      <td>0.934093</td>\n",
       "      <td>0.961111</td>\n",
       "      <td>0.979259</td>\n",
       "    </tr>\n",
       "    <tr>\n",
       "      <th>Recall Train</th>\n",
       "      <td>0.980952</td>\n",
       "      <td>0.980952</td>\n",
       "      <td>1.000000</td>\n",
       "      <td>0.971429</td>\n",
       "      <td>1.000000</td>\n",
       "      <td>0.980952</td>\n",
       "      <td>0.971429</td>\n",
       "      <td>0.971429</td>\n",
       "      <td>1.000000</td>\n",
       "      <td>1.000000</td>\n",
       "      <td>0.971429</td>\n",
       "      <td>0.971429</td>\n",
       "      <td>0.971429</td>\n",
       "      <td>0.971429</td>\n",
       "    </tr>\n",
       "    <tr>\n",
       "      <th>Recall Test</th>\n",
       "      <td>0.933333</td>\n",
       "      <td>0.955556</td>\n",
       "      <td>0.933333</td>\n",
       "      <td>0.911111</td>\n",
       "      <td>0.933333</td>\n",
       "      <td>0.933333</td>\n",
       "      <td>0.955556</td>\n",
       "      <td>0.955556</td>\n",
       "      <td>0.933333</td>\n",
       "      <td>0.933333</td>\n",
       "      <td>0.911111</td>\n",
       "      <td>0.933333</td>\n",
       "      <td>0.955556</td>\n",
       "      <td>0.977778</td>\n",
       "    </tr>\n",
       "    <tr>\n",
       "      <th>Accuracy Train</th>\n",
       "      <td>0.980952</td>\n",
       "      <td>0.980952</td>\n",
       "      <td>1.000000</td>\n",
       "      <td>0.971429</td>\n",
       "      <td>1.000000</td>\n",
       "      <td>0.980952</td>\n",
       "      <td>0.971429</td>\n",
       "      <td>0.971429</td>\n",
       "      <td>1.000000</td>\n",
       "      <td>1.000000</td>\n",
       "      <td>0.971429</td>\n",
       "      <td>0.971429</td>\n",
       "      <td>0.971429</td>\n",
       "      <td>0.971429</td>\n",
       "    </tr>\n",
       "    <tr>\n",
       "      <th>Accuracy Test</th>\n",
       "      <td>0.933333</td>\n",
       "      <td>0.955556</td>\n",
       "      <td>0.933333</td>\n",
       "      <td>0.911111</td>\n",
       "      <td>0.933333</td>\n",
       "      <td>0.933333</td>\n",
       "      <td>0.955556</td>\n",
       "      <td>0.955556</td>\n",
       "      <td>0.933333</td>\n",
       "      <td>0.933333</td>\n",
       "      <td>0.911111</td>\n",
       "      <td>0.933333</td>\n",
       "      <td>0.955556</td>\n",
       "      <td>0.977778</td>\n",
       "    </tr>\n",
       "    <tr>\n",
       "      <th>F1 macro Train</th>\n",
       "      <td>0.980912</td>\n",
       "      <td>0.980912</td>\n",
       "      <td>1.000000</td>\n",
       "      <td>0.971320</td>\n",
       "      <td>1.000000</td>\n",
       "      <td>0.980912</td>\n",
       "      <td>0.971320</td>\n",
       "      <td>0.971320</td>\n",
       "      <td>1.000000</td>\n",
       "      <td>1.000000</td>\n",
       "      <td>0.971404</td>\n",
       "      <td>0.971320</td>\n",
       "      <td>0.971320</td>\n",
       "      <td>0.971320</td>\n",
       "    </tr>\n",
       "    <tr>\n",
       "      <th>F1 macro Test</th>\n",
       "      <td>0.933051</td>\n",
       "      <td>0.955556</td>\n",
       "      <td>0.933051</td>\n",
       "      <td>0.911296</td>\n",
       "      <td>0.933051</td>\n",
       "      <td>0.933473</td>\n",
       "      <td>0.955556</td>\n",
       "      <td>0.955556</td>\n",
       "      <td>0.933051</td>\n",
       "      <td>0.933051</td>\n",
       "      <td>0.911111</td>\n",
       "      <td>0.933051</td>\n",
       "      <td>0.955648</td>\n",
       "      <td>0.977824</td>\n",
       "    </tr>\n",
       "  </tbody>\n",
       "</table>\n",
       "</div>"
      ],
      "text/plain": [
       "                 Logistic regression  Logistic regression tuned  \\\n",
       "Precision Train             0.981955                   0.981955   \n",
       "Precision Test              0.934093                   0.955556   \n",
       "Recall Train                0.980952                   0.980952   \n",
       "Recall Test                 0.933333                   0.955556   \n",
       "Accuracy Train              0.980952                   0.980952   \n",
       "Accuracy Test               0.933333                   0.955556   \n",
       "F1 macro Train              0.980912                   0.980912   \n",
       "F1 macro Test               0.933051                   0.955556   \n",
       "\n",
       "                 Decision Tree  Decision Tree tuned  Random Forest  \\\n",
       "Precision Train       1.000000             0.973626       1.000000   \n",
       "Precision Test        0.934093             0.916481       0.934093   \n",
       "Recall Train          1.000000             0.971429       1.000000   \n",
       "Recall Test           0.933333             0.911111       0.933333   \n",
       "Accuracy Train        1.000000             0.971429       1.000000   \n",
       "Accuracy Test         0.933333             0.911111       0.933333   \n",
       "F1 macro Train        1.000000             0.971320       1.000000   \n",
       "F1 macro Test         0.933051             0.911296       0.933051   \n",
       "\n",
       "                 Random Forest tuned       SVM  SVM tuned       XGB  \\\n",
       "Precision Train             0.981955  0.973626   0.973626  1.000000   \n",
       "Precision Test              0.934907  0.955556   0.955556  0.934093   \n",
       "Recall Train                0.980952  0.971429   0.971429  1.000000   \n",
       "Recall Test                 0.933333  0.955556   0.955556  0.933333   \n",
       "Accuracy Train              0.980952  0.971429   0.971429  1.000000   \n",
       "Accuracy Test               0.933333  0.955556   0.955556  0.933333   \n",
       "F1 macro Train              0.980912  0.971320   0.971320  1.000000   \n",
       "F1 macro Test               0.933473  0.955556   0.955556  0.933051   \n",
       "\n",
       "                 XGB tuned  Naive Bayes  Naive Bayes tuned  Neural Network  \\\n",
       "Precision Train   1.000000     0.971646           0.973626        0.973626   \n",
       "Precision Test    0.934093     0.911111           0.934093        0.961111   \n",
       "Recall Train      1.000000     0.971429           0.971429        0.971429   \n",
       "Recall Test       0.933333     0.911111           0.933333        0.955556   \n",
       "Accuracy Train    1.000000     0.971429           0.971429        0.971429   \n",
       "Accuracy Test     0.933333     0.911111           0.933333        0.955556   \n",
       "F1 macro Train    1.000000     0.971404           0.971320        0.971320   \n",
       "F1 macro Test     0.933051     0.911111           0.933051        0.955648   \n",
       "\n",
       "                 Neural Network tuned  \n",
       "Precision Train              0.973626  \n",
       "Precision Test               0.979259  \n",
       "Recall Train                 0.971429  \n",
       "Recall Test                  0.977778  \n",
       "Accuracy Train               0.971429  \n",
       "Accuracy Test                0.977778  \n",
       "F1 macro Train               0.971320  \n",
       "F1 macro Test                0.977824  "
      ]
     },
     "execution_count": 133,
     "metadata": {},
     "output_type": "execute_result"
    }
   ],
   "source": [
    "score"
   ]
  },
  {
   "cell_type": "code",
   "execution_count": 134,
   "metadata": {},
   "outputs": [
    {
     "name": "stdout",
     "output_type": "stream",
     "text": [
      "|                 |   Logistic regression |   Logistic regression tuned |   Decision Tree |   Decision Tree tuned |   Random Forest |   Random Forest tuned |      SVM |   SVM tuned |      XGB |   XGB tuned |   Naive Bayes |   Naive Bayes tuned |   Neural Network |   Neural Network tuned |\n",
      "|:----------------|----------------------:|----------------------------:|----------------:|----------------------:|----------------:|----------------------:|---------:|------------:|---------:|------------:|--------------:|--------------------:|-----------------:|-----------------------:|\n",
      "| Precision Train |              0.981955 |                    0.981955 |        1        |              0.973626 |        1        |              0.981955 | 0.973626 |    0.973626 | 1        |    1        |      0.971646 |            0.973626 |         0.973626 |               0.973626 |\n",
      "| Precision Test  |              0.934093 |                    0.955556 |        0.934093 |              0.916481 |        0.934093 |              0.934907 | 0.955556 |    0.955556 | 0.934093 |    0.934093 |      0.911111 |            0.934093 |         0.961111 |               0.979259 |\n",
      "| Recall Train    |              0.980952 |                    0.980952 |        1        |              0.971429 |        1        |              0.980952 | 0.971429 |    0.971429 | 1        |    1        |      0.971429 |            0.971429 |         0.971429 |               0.971429 |\n",
      "| Recall Test     |              0.933333 |                    0.955556 |        0.933333 |              0.911111 |        0.933333 |              0.933333 | 0.955556 |    0.955556 | 0.933333 |    0.933333 |      0.911111 |            0.933333 |         0.955556 |               0.977778 |\n",
      "| Accuracy Train  |              0.980952 |                    0.980952 |        1        |              0.971429 |        1        |              0.980952 | 0.971429 |    0.971429 | 1        |    1        |      0.971429 |            0.971429 |         0.971429 |               0.971429 |\n",
      "| Accuracy Test   |              0.933333 |                    0.955556 |        0.933333 |              0.911111 |        0.933333 |              0.933333 | 0.955556 |    0.955556 | 0.933333 |    0.933333 |      0.911111 |            0.933333 |         0.955556 |               0.977778 |\n",
      "| F1 macro Train  |              0.980912 |                    0.980912 |        1        |              0.97132  |        1        |              0.980912 | 0.97132  |    0.97132  | 1        |    1        |      0.971404 |            0.97132  |         0.97132  |               0.97132  |\n",
      "| F1 macro Test   |              0.933051 |                    0.955556 |        0.933051 |              0.911296 |        0.933051 |              0.933473 | 0.955556 |    0.955556 | 0.933051 |    0.933051 |      0.911111 |            0.933051 |         0.955648 |               0.977824 |\n"
     ]
    }
   ],
   "source": [
    "print(score.to_markdown())"
   ]
  },
  {
   "cell_type": "markdown",
   "metadata": {},
   "source": []
  },
  {
   "cell_type": "markdown",
   "metadata": {},
   "source": [
    "# Selection of best model\n"
   ]
  },
  {
   "cell_type": "code",
   "execution_count": null,
   "metadata": {},
   "outputs": [
    {
     "data": {
      "text/html": [
       "<div>\n",
       "<style scoped>\n",
       "    .dataframe tbody tr th:only-of-type {\n",
       "        vertical-align: middle;\n",
       "    }\n",
       "\n",
       "    .dataframe tbody tr th {\n",
       "        vertical-align: top;\n",
       "    }\n",
       "\n",
       "    .dataframe thead th {\n",
       "        text-align: right;\n",
       "    }\n",
       "</style>\n",
       "<table border=\"1\" class=\"dataframe\">\n",
       "  <thead>\n",
       "    <tr style=\"text-align: right;\">\n",
       "      <th></th>\n",
       "      <th>Precision Train</th>\n",
       "      <th>Precision Test</th>\n",
       "      <th>Recall Train</th>\n",
       "      <th>Recall Test</th>\n",
       "      <th>Accuracy Train</th>\n",
       "      <th>Accuracy Test</th>\n",
       "      <th>F1 macro Train</th>\n",
       "      <th>F1 macro Test</th>\n",
       "    </tr>\n",
       "  </thead>\n",
       "  <tbody>\n",
       "    <tr>\n",
       "      <th>Decision Tree tuned</th>\n",
       "      <td>0.973626</td>\n",
       "      <td>0.916481</td>\n",
       "      <td>0.971429</td>\n",
       "      <td>0.911111</td>\n",
       "      <td>0.971429</td>\n",
       "      <td>0.911111</td>\n",
       "      <td>0.971320</td>\n",
       "      <td>0.911296</td>\n",
       "    </tr>\n",
       "    <tr>\n",
       "      <th>SVM</th>\n",
       "      <td>0.973626</td>\n",
       "      <td>0.955556</td>\n",
       "      <td>0.971429</td>\n",
       "      <td>0.955556</td>\n",
       "      <td>0.971429</td>\n",
       "      <td>0.955556</td>\n",
       "      <td>0.971320</td>\n",
       "      <td>0.955556</td>\n",
       "    </tr>\n",
       "    <tr>\n",
       "      <th>SVM tuned</th>\n",
       "      <td>0.973626</td>\n",
       "      <td>0.955556</td>\n",
       "      <td>0.971429</td>\n",
       "      <td>0.955556</td>\n",
       "      <td>0.971429</td>\n",
       "      <td>0.955556</td>\n",
       "      <td>0.971320</td>\n",
       "      <td>0.955556</td>\n",
       "    </tr>\n",
       "    <tr>\n",
       "      <th>Naive Bayes</th>\n",
       "      <td>0.971646</td>\n",
       "      <td>0.911111</td>\n",
       "      <td>0.971429</td>\n",
       "      <td>0.911111</td>\n",
       "      <td>0.971429</td>\n",
       "      <td>0.911111</td>\n",
       "      <td>0.971404</td>\n",
       "      <td>0.911111</td>\n",
       "    </tr>\n",
       "    <tr>\n",
       "      <th>Naive Bayes tuned</th>\n",
       "      <td>0.973626</td>\n",
       "      <td>0.934093</td>\n",
       "      <td>0.971429</td>\n",
       "      <td>0.933333</td>\n",
       "      <td>0.971429</td>\n",
       "      <td>0.933333</td>\n",
       "      <td>0.971320</td>\n",
       "      <td>0.933051</td>\n",
       "    </tr>\n",
       "    <tr>\n",
       "      <th>Neural Network</th>\n",
       "      <td>0.973626</td>\n",
       "      <td>0.961111</td>\n",
       "      <td>0.971429</td>\n",
       "      <td>0.955556</td>\n",
       "      <td>0.971429</td>\n",
       "      <td>0.955556</td>\n",
       "      <td>0.971320</td>\n",
       "      <td>0.955648</td>\n",
       "    </tr>\n",
       "    <tr>\n",
       "      <th>Neural Network tuned</th>\n",
       "      <td>0.973626</td>\n",
       "      <td>0.979259</td>\n",
       "      <td>0.971429</td>\n",
       "      <td>0.977778</td>\n",
       "      <td>0.971429</td>\n",
       "      <td>0.977778</td>\n",
       "      <td>0.971320</td>\n",
       "      <td>0.977824</td>\n",
       "    </tr>\n",
       "  </tbody>\n",
       "</table>\n",
       "</div>"
      ],
      "text/plain": [
       "                      Precision Train  Precision Test  Recall Train  \\\n",
       "Decision Tree tuned          0.973626        0.916481      0.971429   \n",
       "SVM                          0.973626        0.955556      0.971429   \n",
       "SVM tuned                    0.973626        0.955556      0.971429   \n",
       "Naive Bayes                  0.971646        0.911111      0.971429   \n",
       "Naive Bayes tuned            0.973626        0.934093      0.971429   \n",
       "Neural Network               0.973626        0.961111      0.971429   \n",
       "Neural Network tuned         0.973626        0.979259      0.971429   \n",
       "\n",
       "                      Recall Test  Accuracy Train  Accuracy Test  \\\n",
       "Decision Tree tuned      0.911111        0.971429       0.911111   \n",
       "SVM                      0.955556        0.971429       0.955556   \n",
       "SVM tuned                0.955556        0.971429       0.955556   \n",
       "Naive Bayes              0.911111        0.971429       0.911111   \n",
       "Naive Bayes tuned        0.933333        0.971429       0.933333   \n",
       "Neural Network           0.955556        0.971429       0.955556   \n",
       "Neural Network tuned     0.977778        0.971429       0.977778   \n",
       "\n",
       "                      F1 macro Train  F1 macro Test  \n",
       "Decision Tree tuned         0.971320       0.911296  \n",
       "SVM                         0.971320       0.955556  \n",
       "SVM tuned                   0.971320       0.955556  \n",
       "Naive Bayes                 0.971404       0.911111  \n",
       "Naive Bayes tuned           0.971320       0.933051  \n",
       "Neural Network              0.971320       0.955648  \n",
       "Neural Network tuned        0.971320       0.977824  "
      ]
     },
     "execution_count": 135,
     "metadata": {},
     "output_type": "execute_result"
    }
   ],
   "source": [
    "# Removing the overfitted models which have precision, recall, f1 scores for train as 1\n",
    "score_t = score.transpose()            # taking transpose of the score dataframe to create new difference column\n",
    "remove_models = score_t[score_t['Recall Train'] >= 0.98].index  # creating a list of models which have 1 for train and score_t['Accuracy Train']==1.0 and score_t['Precision Train']==1.0 and score_t['F1 macro Train']==1.0\n",
    "remove_models\n",
    "\n",
    "adj = score_t.drop(remove_models)                     # creating a new dataframe with required models\n",
    "adj"
   ]
  },
  {
   "cell_type": "code",
   "execution_count": 136,
   "metadata": {},
   "outputs": [],
   "source": [
    "\n",
    "def select_best_model(df, metrics):\n",
    "\n",
    "    best_models = {}\n",
    "    for metric in metrics:\n",
    "        max_test = df[metric + ' Test'].max()\n",
    "        best_model_test = df[df[metric + ' Test'] == max_test].index[0]\n",
    "        best_model = best_model_test\n",
    "        best_models[metric] = best_model\n",
    "    return best_models"
   ]
  },
  {
   "cell_type": "code",
   "execution_count": 137,
   "metadata": {},
   "outputs": [
    {
     "name": "stdout",
     "output_type": "stream",
     "text": [
      "The best models are:\n",
      "Precision: Neural Network tuned - 0.9793\n",
      "Recall: Neural Network tuned - 0.9778\n",
      "Accuracy: Neural Network tuned - 0.9778\n",
      "F1 macro: Neural Network tuned - 0.9778\n"
     ]
    }
   ],
   "source": [
    "metrics = ['Precision', 'Recall', 'Accuracy', 'F1 macro']\n",
    "\n",
    "best_models = select_best_model(adj, metrics)\n",
    "print(\"The best models are:\")\n",
    "for metric, best_model in best_models.items():\n",
    "    print(f\"{metric}: {best_model} - {adj[metric+' Test'][best_model].round(4)}\")"
   ]
  },
  {
   "cell_type": "code",
   "execution_count": 138,
   "metadata": {},
   "outputs": [
    {
     "name": "stdout",
     "output_type": "stream",
     "text": [
      "| Classification Model   |   Recall Train |   Recall Test |\n",
      "|:-----------------------|---------------:|--------------:|\n",
      "| Decision Tree tuned    |       0.971429 |      0.911111 |\n",
      "| SVM                    |       0.971429 |      0.955556 |\n",
      "| SVM tuned              |       0.971429 |      0.955556 |\n",
      "| Naive Bayes            |       0.971429 |      0.911111 |\n",
      "| Naive Bayes tuned      |       0.971429 |      0.933333 |\n",
      "| Neural Network         |       0.971429 |      0.955556 |\n",
      "| Neural Network tuned   |       0.971429 |      0.977778 |\n"
     ]
    }
   ],
   "source": [
    "\n",
    "# Take recall as the primary evaluation metric\n",
    "score_smpl = score.transpose()\n",
    "remove_overfitting_models = score_smpl[score_smpl['Recall Train']>=0.98].index\n",
    "remove_overfitting_models\n",
    "new_score = score_smpl.drop(remove_overfitting_models)\n",
    "new_score = new_score.drop(['Precision Train','Precision Test','Accuracy Train','Accuracy Test','F1 macro Train','F1 macro Test'], axis=1)\n",
    "new_score.index.name = 'Classification Model'\n",
    "print(new_score.to_markdown())"
   ]
  },
  {
   "cell_type": "code",
   "execution_count": 139,
   "metadata": {},
   "outputs": [],
   "source": [
    "Category_RF = ['Iris-Setosa', 'Iris-Versicolor', 'Iris-Virginica']\n"
   ]
  },
  {
   "cell_type": "markdown",
   "metadata": {},
   "source": [
    "## Prediction"
   ]
  },
  {
   "cell_type": "code",
   "execution_count": null,
   "metadata": {},
   "outputs": [
    {
     "name": "stdout",
     "output_type": "stream",
     "text": [
      "Iris-Setosa\n"
     ]
    }
   ],
   "source": [
    "x_rf = np.array([[5.1, 3.5, 1.4, 0.2]])   # sepal length , sepal width , petal length , petal width\n",
    " \n",
    "# Use the tuned random forest model (rf_model2) to make a prediction.\n",
    "x_rf_prediction = rf_model2.predict(x_rf)\n",
    "x_rf_prediction[0]\n",
    "\n",
    "# Display the predicted category label.\n",
    "print(Category_RF[int(x_rf_prediction[0])])"
   ]
  },
  {
   "cell_type": "code",
   "execution_count": null,
   "metadata": {},
   "outputs": [],
   "source": []
  }
 ],
 "metadata": {
  "kernelspec": {
   "display_name": "base",
   "language": "python",
   "name": "python3"
  },
  "language_info": {
   "codemirror_mode": {
    "name": "ipython",
    "version": 3
   },
   "file_extension": ".py",
   "mimetype": "text/x-python",
   "name": "python",
   "nbconvert_exporter": "python",
   "pygments_lexer": "ipython3",
   "version": "3.12.4"
  }
 },
 "nbformat": 4,
 "nbformat_minor": 2
}
